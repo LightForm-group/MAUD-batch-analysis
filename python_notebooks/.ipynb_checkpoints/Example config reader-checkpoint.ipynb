{
 "cells": [
  {
   "cell_type": "code",
   "execution_count": 1,
   "metadata": {},
   "outputs": [
    {
     "name": "stdout",
     "output_type": "stream",
     "text": [
      "0\n",
      "../data/diamond_2017/{test_number:03d}/pixium_{image_number:05d}.dat\n",
      "../analysis/diamond_2017/000_15deg/000_00005.par\n",
      "../analysis/diamond_2017/001_15deg/001_00005.par\n",
      "../analysis/diamond_2017/002_15deg/002_00005.par\n",
      "../analysis/diamond_2017/000_30deg/000_00005.par\n",
      "../analysis/diamond_2017/001_30deg/001_00005.par\n",
      "../analysis/diamond_2017/002_30deg/002_00005.par\n",
      "../analysis/diamond_2017/000_45deg/000_00005.par\n",
      "../analysis/diamond_2017/001_45deg/001_00005.par\n",
      "../analysis/diamond_2017/002_45deg/002_00005.par\n"
     ]
    }
   ],
   "source": [
    "import yaml\n",
    "\n",
    "def get_config(path: str) -> dict:\n",
    "    \"\"\"Open a yaml file and return the contents.\"\"\"\n",
    "    with open(path) as input_file:\n",
    "        return yaml.safe_load(input_file)\n",
    "\n",
    "\n",
    "config = get_config(\"config.yaml\")\n",
    "\n",
    "# You can access nested values using multiple sets of square brackets.\n",
    "print(config[\"image_numbers\"][\"start\"])\n",
    "print(config[\"file_paths\"][\"input\"])\n",
    "for angle in config[\"angles\"]:\n",
    "    for i in range(3):\n",
    "        # You can use format to substitute variables into \n",
    "        print(config[\"file_paths\"][\"output\"].format(test_number=i, image_number=5, angle=angle))"
   ]
  },
  {
   "cell_type": "code",
   "execution_count": null,
   "metadata": {},
   "outputs": [],
   "source": []
  },
  {
   "cell_type": "code",
   "execution_count": null,
   "metadata": {},
   "outputs": [],
   "source": [
    "from typing import Tuple\n",
    "\n",
    "def create_data_pars(image_numbers: List[int], test_number: int, pixel_size: float, \n",
    "                     detector_distance: float, start_angle: int, previous_esg_filename: str, \n",
    "                     ):\n",
    "    \"\"\"This function iterates through a set of data files in '.dat' format and outputs them in '.par' analysis \n",
    "    file format for analysis using MAUD.\n",
    "    \"\"\"\n",
    "    \n",
    "    \n",
    "    # loop through the data using the image number of the files\n",
    "    for image_number in tqdm(image_numbers):\n",
    "        input_path, output_par_path, template_par_path = get_paths(test_number, image_number)\n",
    "        \n",
    "        dat_to_par(input_path, pixel_size, detector_distance, start_angle, output_par_path, template_par_path,\n",
    "                   previous_esg_filename, test_number, image_number)\n",
    "\n",
    "    print(f\"Written {len(image_numbers)} .par analysis files to: '{output_par_path}'.\")\n",
    "    \n",
    "def get_paths(test_number: int, image_number: int) -> Tuple[str, str, str]:\n",
    "    config = get_config()\n",
    "    paths = config[\"file_paths\"]\n",
    "    input_path = get_io_path(paths[\"input\"], test_number, image_number)\n",
    "    output_path = get_io_path(paths[\"output\"], test_number, image_number)\n",
    "    \n",
    "    return(paths[\"input\"], paths[\"output\"], paths[\"template\"])"
   ]
  },
  {
   "cell_type": "code",
   "execution_count": null,
   "metadata": {},
   "outputs": [],
   "source": [
    "from typing import List\n",
    "\n",
    "def get_io_path(path_stub: str, test_number: int, image_number: int) -> str:\n",
    "    \"\"\"Construct the path of the input file.\"\"\"\n",
    "    return path_stub.format(test_number=test_number, image_number=image_number)\n",
    "\n",
    "def get_template_path(test_number: int) -> str:\n",
    "    \"\"\"Construct the path of the template file.\"\"\"\n",
    "    return path_stub.format(test_number=test_number)\n",
    "    \n",
    "def get_image_numbers(start: int, end: int, step: int) -> List[int]:\n",
    "    return list(range(start, end + 1, step))\n"
   ]
  }
 ],
 "metadata": {
  "kernelspec": {
   "display_name": "Python 3",
   "language": "python",
   "name": "python3"
  },
  "language_info": {
   "codemirror_mode": {
    "name": "ipython",
    "version": 3
   },
   "file_extension": ".py",
   "mimetype": "text/x-python",
   "name": "python",
   "nbconvert_exporter": "python",
   "pygments_lexer": "ipython3",
   "version": "3.6.8"
  }
 },
 "nbformat": 4,
 "nbformat_minor": 2
}
