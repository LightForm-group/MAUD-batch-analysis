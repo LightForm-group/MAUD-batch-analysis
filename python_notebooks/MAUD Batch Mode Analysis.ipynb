{
 "cells": [
  {
   "cell_type": "markdown",
   "metadata": {},
   "source": [
    "This notebook contains an analysis workflow for plotting refinement results from MAUD batch mode (http://maud.radiographema.eu/) and extracting crystallographic texture data for analysis using the MTEX toolbox in MATLAB (https://mtex-toolbox.github.io)\n",
    "\n",
    "## Import packages"
   ]
  },
  {
   "cell_type": "code",
   "execution_count": null,
   "metadata": {},
   "outputs": [],
   "source": [
    "import pathlib\n",
    "import re\n",
    "\n",
    "from tqdm.notebook import tqdm\n",
    "import numpy as np\n",
    "import matplotlib.pyplot as plt\n",
    "\n",
    "import yaml\n",
    "from typing import Tuple\n",
    "from typing import List\n",
    "\n",
    "%matplotlib inline"
   ]
  },
  {
   "cell_type": "markdown",
   "metadata": {},
   "source": [
    "## Load YAML file"
   ]
  },
  {
   "cell_type": "markdown",
   "metadata": {},
   "source": [
    "The file paths and user inputs for the analysis of the Diamond 2017 and Diamond 2021 experiments are included in the `yaml` configuration files, to record the inputs of the analysis."
   ]
  },
  {
   "cell_type": "code",
   "execution_count": null,
   "metadata": {},
   "outputs": [],
   "source": [
    "def get_config(path: str) -> dict:\n",
    "    \"\"\"Open a yaml file and return the contents.\"\"\"\n",
    "    with open(path) as input_file:\n",
    "        return yaml.safe_load(input_file)"
   ]
  },
  {
   "cell_type": "code",
   "execution_count": null,
   "metadata": {},
   "outputs": [],
   "source": [
    "# to load the Diamond 2017 analysis\n",
    "config_path = \"yaml/config_diamond_2017.yaml\"\n",
    "config = get_config(config_path)"
   ]
  },
  {
   "cell_type": "code",
   "execution_count": null,
   "metadata": {},
   "outputs": [],
   "source": [
    "# to load the Diamond 2021 analysis\n",
    "config_path = \"yaml/config_diamond_2021.yaml\"\n",
    "config = get_config(config_path)"
   ]
  },
  {
   "cell_type": "code",
   "execution_count": null,
   "metadata": {},
   "outputs": [],
   "source": [
    "# to load the Diamond 2021 analysis for bulk summed images from individual sample orientations\n",
    "config_path = \"yaml/config_diamond_2021_summed_images.yaml\"\n",
    "config = get_config(config_path)"
   ]
  },
  {
   "cell_type": "code",
   "execution_count": null,
   "metadata": {},
   "outputs": [],
   "source": [
    "# to load the Diamond 2021 analysis for bulk summed images from all sample orientations\n",
    "config_path = \"yaml/config_diamond_2021_combined_samples.yaml\"\n",
    "config = get_config(config_path)"
   ]
  },
  {
   "cell_type": "markdown",
   "metadata": {},
   "source": [
    "## Plotting refinement results"
   ]
  },
  {
   "cell_type": "markdown",
   "metadata": {},
   "source": [
    "Read in results of the fit from the text file:"
   ]
  },
  {
   "cell_type": "code",
   "execution_count": null,
   "metadata": {},
   "outputs": [],
   "source": [
    "# user inputs\n",
    "test_number = config[\"user_inputs\"][\"test_number\"]\n",
    "print(\"The test number is: \", test_number)\n",
    "\n",
    "# which phase is being refined?\n",
    "phase = config[\"user_inputs\"][\"phase1\"]\n",
    "#phase = config[\"user_inputs\"][\"phase2\"]\n",
    "print(\"The phase is: \", phase)\n",
    "\n",
    "number_of_iterations = config[\"user_inputs\"][\"number_of_iterations\"]\n",
    "print(\"The number of refinement iterations is: \", number_of_iterations)\n",
    "\n",
    "results_file = config[\"file_paths\"][\"results_file\"].format(test_number=test_number, phase=phase, number_of_iterations=number_of_iterations)\n",
    "print(\"The path to the results file is: \", results_file)\n",
    "\n",
    "results = np.loadtxt(results_file, usecols = np.arange(0,19), dtype='str', skiprows = 1)"
   ]
  },
  {
   "cell_type": "markdown",
   "metadata": {},
   "source": [
    "Read in the data headers:"
   ]
  },
  {
   "cell_type": "code",
   "execution_count": null,
   "metadata": {
    "scrolled": true
   },
   "outputs": [],
   "source": [
    "with open (results_file) as file:\n",
    "    header = file.readline().split()\n",
    "    for i in range(0, len(header)):\n",
    "        print('header column ', i ,' = ', header[i])"
   ]
  },
  {
   "cell_type": "markdown",
   "metadata": {},
   "source": [
    "Write the results of the fit to new arrays:"
   ]
  },
  {
   "cell_type": "code",
   "execution_count": null,
   "metadata": {},
   "outputs": [],
   "source": [
    "title = results[:,0]\n",
    "R_wp = results[:,1].astype(np.float)\n",
    "phase = results[0,2]\n",
    "volume = results[:,3].astype(np.float)\n",
    "vol_error = results[:,4].astype(np.float)\n",
    "weight_percent = results[:,5].astype(np.float)\n",
    "weight_error = results[:,6].astype(np.float)\n",
    "cell_par_a = results[:,7].astype(np.float)\n",
    "cell_par_c = results[:,8].astype(np.float)\n",
    "size = results[:,9].astype(np.float)\n",
    "microstrain = results[:,10].astype(np.float)\n",
    "phase2 = results[0,11]\n",
    "volume2 = results[:,12].astype(np.float)\n",
    "vol_error2 = results[:,13].astype(np.float)\n",
    "weight_percent2 = results[:,14].astype(np.float)\n",
    "weight_error2 = results[:,15].astype(np.float)\n",
    "cell_par_a2 = results[:,16].astype(np.float)\n",
    "size2 = results[:,17].astype(np.float)\n",
    "microstrain2 = results[:,18].astype(np.float)"
   ]
  },
  {
   "cell_type": "markdown",
   "metadata": {},
   "source": [
    "Get the test numbers from the data names:"
   ]
  },
  {
   "cell_type": "code",
   "execution_count": null,
   "metadata": {},
   "outputs": [],
   "source": [
    "test_number = []\n",
    "\n",
    "for test_name in title:   \n",
    "    test_num = ''.join(re.findall(r'\\D(\\d{5})\\D', test_name))\n",
    "    test_number.append(int(test_num))\n",
    "\n",
    "print('test_number =', test_number)"
   ]
  },
  {
   "cell_type": "markdown",
   "metadata": {},
   "source": [
    "Plotting parameters:"
   ]
  },
  {
   "cell_type": "code",
   "execution_count": null,
   "metadata": {},
   "outputs": [],
   "source": [
    "plt.rc('xtick', labelsize = 24)\n",
    "plt.rc('ytick', labelsize = 24)\n",
    "plt.rc('legend', fontsize = 20)\n",
    "plt.rc('axes', linewidth = 2)\n",
    "plt.rc('xtick.major', width = 2, size = 10)\n",
    "plt.rc('xtick.minor', width = 2, size = 5)\n",
    "plt.rc('ytick.major', width = 2, size = 10)\n",
    "plt.rc('ytick.minor', width = 2, size = 5)"
   ]
  },
  {
   "cell_type": "markdown",
   "metadata": {},
   "source": [
    "Plot the goodness of fit (R<sub>wp</sub>) values:"
   ]
  },
  {
   "cell_type": "code",
   "execution_count": null,
   "metadata": {
    "scrolled": true
   },
   "outputs": [],
   "source": [
    "plt.figure(figsize=(25,5))\n",
    "plt.plot(test_number, R_wp, color = 'red', linewidth = 4)\n",
    "#plt.title(header[1], fontsize = 30)\n",
    "#plt.xlim(3100,3360)\n",
    "#plt.ylim(30,40)\n",
    "plt.xlabel('Scan Number', fontsize = 30)\n",
    "plt.ylabel(header[1], fontsize = 30)\n",
    "plt.minorticks_on()\n",
    "plt.tight_layout()"
   ]
  },
  {
   "cell_type": "markdown",
   "metadata": {},
   "source": [
    "Plot the volume, weight percent, a and c cell parameter, size and microstrain for the $\\alpha$ phase:"
   ]
  },
  {
   "cell_type": "code",
   "execution_count": null,
   "metadata": {
    "scrolled": true
   },
   "outputs": [],
   "source": [
    "fig, ((ax1,ax2,ax3),(ax4,ax5,ax6)) = plt.subplots(2, 3, figsize = (25, 15))\n",
    "\n",
    "colour = '#003f5c', '#444e86', '#955196', '#dd5182', '#ff6e54', '#ffa600'\n",
    "\n",
    "ax1.minorticks_on()\n",
    "ax1.plot(test_number, volume, color = colour[0], linewidth = 4)\n",
    "# ax1.set_title(header[3], fontsize = 30)\n",
    "ax1.set_xlabel('Scan Number', fontsize = 30)\n",
    "ax1.set_ylabel(header[3], fontsize = 30)\n",
    "\n",
    "ax2.minorticks_on()\n",
    "ax2.plot(test_number, weight_percent, color = colour[1], linewidth = 4)\n",
    "# ax2.set_title(header[5], fontsize = 30)\n",
    "ax2.set_xlabel('Scan Number', fontsize = 30)\n",
    "ax2.set_ylabel(header[5], fontsize = 30)\n",
    "\n",
    "ax3.minorticks_on()\n",
    "ax3.plot(test_number, cell_par_a, color = colour[2], linewidth = 4)\n",
    "# ax3.set_title(header[7], fontsize = 30)\n",
    "ax3.set_xlabel('Scan Number', fontsize = 30)\n",
    "ax3.set_ylabel(header[7], fontsize = 30)\n",
    "\n",
    "ax4.minorticks_on()\n",
    "ax4.plot(test_number, cell_par_c, color = colour[3], linewidth = 4)\n",
    "# ax4.set_title(header[8], fontsize = 30)\n",
    "ax4.set_xlabel('Scan Number', fontsize = 30)\n",
    "ax4.set_ylabel(header[8], fontsize = 30)\n",
    "\n",
    "ax5.minorticks_on()\n",
    "ax5.plot(test_number, size, color = colour[4], linewidth = 4)\n",
    "# ax5.set_title(header[9], fontsize = 30)\n",
    "ax5.set_xlabel('Scan Number', fontsize = 30)\n",
    "ax5.set_ylabel(header[9], fontsize = 30)\n",
    "\n",
    "ax6.minorticks_on()\n",
    "ax6.plot(test_number, microstrain, color = colour[5], linewidth = 4)\n",
    "# ax6.set_title(header[10], fontsize = 30)\n",
    "ax6.set_xlabel('Scan Number', fontsize = 30)\n",
    "ax6.set_ylabel(header[10], fontsize = 30)\n",
    "\n",
    "fig.suptitle(header[2] + ' = ' + phase, x = 0.525, y = 1.02, fontsize = 36)\n",
    "\n",
    "fig.tight_layout()"
   ]
  },
  {
   "cell_type": "markdown",
   "metadata": {},
   "source": [
    "Plot the errors for the volume and weight percent for the $\\alpha$ phase:"
   ]
  },
  {
   "cell_type": "code",
   "execution_count": null,
   "metadata": {},
   "outputs": [],
   "source": [
    "fig, ((ax1,ax2)) = plt.subplots(1, 2, figsize = (25, 8))\n",
    "\n",
    "ax1.minorticks_on()\n",
    "ax1.plot(test_number, vol_error, color = colour[0], linewidth = 4)\n",
    "# ax1.set_title(header[4] + ' of ' + results_header[3], fontsize = 30)\n",
    "ax1.set_xlabel('Scan Number', fontsize = 30)\n",
    "ax1.set_ylabel(header[4] + ' of ' + header[3], fontsize = 30)\n",
    "\n",
    "ax2.minorticks_on()\n",
    "ax2.plot(test_number, weight_error, color = colour[1], linewidth = 4)\n",
    "# ax2.set_title(header[6] + ' of ' + results_header[5], fontsize = 30)\n",
    "ax2.set_xlabel('Scan Number', fontsize = 30)\n",
    "ax2.set_ylabel(header[6] + ' of ' + header[5], fontsize = 30)\n",
    "\n",
    "fig.suptitle(header[2] + ' = ' + phase, x = 0.525, y = 1.05, fontsize = 36)\n",
    "\n",
    "fig.tight_layout()"
   ]
  },
  {
   "cell_type": "markdown",
   "metadata": {},
   "source": [
    "Plot the volume, weight percent, a cell parameter, size and microstrain for the $\\beta$ phase:"
   ]
  },
  {
   "cell_type": "code",
   "execution_count": null,
   "metadata": {},
   "outputs": [],
   "source": [
    "fig, ((ax1,ax2,ax3),(ax4,ax5,ax6)) = plt.subplots(2, 3, figsize = (25, 15))\n",
    "\n",
    "ax1.minorticks_on()\n",
    "ax1.plot(test_number, volume2, color = colour[0], linewidth = 4)\n",
    "# ax1.set_title(header[12], fontsize = 30)\n",
    "ax1.set_xlabel('Scan Number', fontsize = 30)\n",
    "ax1.set_ylabel(header[12], fontsize = 30)\n",
    "\n",
    "ax2.minorticks_on()\n",
    "ax2.plot(test_number, weight_percent2, color = colour[1], linewidth = 4)\n",
    "# ax2.set_title(header[14], fontsize = 30)\n",
    "ax2.set_xlabel('Scan Number', fontsize = 30)\n",
    "ax2.set_ylabel(header[14], fontsize = 30)\n",
    "\n",
    "ax3.axis('off') # since there is only one cell parameter for the beta phase\n",
    "\n",
    "ax4.minorticks_on()\n",
    "ax4.plot(test_number, cell_par_a2, color = colour[2], linewidth = 4)\n",
    "# ax4.set_title(header[16], fontsize = 30)\n",
    "ax4.set_xlabel('Scan Number', fontsize = 30)\n",
    "ax4.set_ylabel(header[16], fontsize = 30)\n",
    "\n",
    "ax5.minorticks_on()\n",
    "ax5.plot(test_number, size2, color = colour[4], linewidth = 4)\n",
    "# ax5.set_title(header[17], fontsize = 30)\n",
    "ax5.set_xlabel('Scan Number', fontsize = 30)\n",
    "ax5.set_ylabel(header[17], fontsize = 30)\n",
    "\n",
    "ax6.minorticks_on()\n",
    "ax6.plot(test_number, microstrain, color = colour[5], linewidth = 4)\n",
    "# ax6.set_title(header[18], fontsize = 30)\n",
    "ax6.set_xlabel('Scan Number', fontsize = 30)\n",
    "ax6.set_ylabel(header[18], fontsize = 30)\n",
    "\n",
    "fig.suptitle(header[11] + ' = ' + phase2, x = 0.525, y = 1.02, fontsize = 36)\n",
    "\n",
    "fig.tight_layout()"
   ]
  },
  {
   "cell_type": "markdown",
   "metadata": {},
   "source": [
    "Plot the errors for the volume and weight percent for the $\\beta$ phase:"
   ]
  },
  {
   "cell_type": "code",
   "execution_count": null,
   "metadata": {},
   "outputs": [],
   "source": [
    "fig, ((ax1,ax2)) = plt.subplots(1, 2, figsize = (25, 8))\n",
    "\n",
    "ax1.minorticks_on()\n",
    "ax1.plot(test_number, vol_error2, color = colour[0], linewidth = 4)\n",
    "# ax1.set_title(header[13] + ' of ' + results_header[3], fontsize = 30)\n",
    "ax1.set_xlabel('Scan Number', fontsize = 30)\n",
    "ax1.set_ylabel(header[13] + ' of ' + header[3], fontsize = 30)\n",
    "\n",
    "ax2.minorticks_on()\n",
    "ax2.plot(test_number, weight_error2, color = colour[1], linewidth = 4)\n",
    "# ax2.set_title(header[15] + ' of ' + results_header[5], fontsize = 30)\n",
    "ax2.set_xlabel('Scan Number', fontsize = 30)\n",
    "ax2.set_ylabel(header[15] + ' of ' + header[5], fontsize = 30)\n",
    "\n",
    "fig.suptitle(header[11] + ' = ' + phase2, x = 0.525, y = 1.05, fontsize = 36)\n",
    "\n",
    "fig.tight_layout()"
   ]
  },
  {
   "cell_type": "markdown",
   "metadata": {},
   "source": [
    "## Writing the ODF for plotting in MTEX"
   ]
  },
  {
   "cell_type": "markdown",
   "metadata": {},
   "source": [
    "The .par analysis file contains the ODF data. We find the data after the line '_rita_wimv_odf_values'. It is in the form of **Euler angles using the Matthies convention**."
   ]
  },
  {
   "cell_type": "code",
   "execution_count": null,
   "metadata": {},
   "outputs": [],
   "source": [
    "def write_odf_to_text(image_numbers: List[int], test_number: int, phase: str, number_of_iterations: int,\n",
    "                      input_format_string: str, output_format_string: str, odf_resolution: int):\n",
    "    \"\"\"This function searches for the odf within refined MAUD analysis '.par' files and \n",
    "    writes the recorded intensities to a text file that is readable in MTEX.\n",
    "    \"\"\"\n",
    "    \n",
    "    for image_number in tqdm(image_numbers):\n",
    "\n",
    "        # input refined MAUD analysis file\n",
    "        if not number_of_iterations:\n",
    "            input_path = input_format_string.format(test_number=test_number, phase=phase)\n",
    "        else:\n",
    "            input_path = input_format_string.format(test_number=test_number, image_number=image_number, phase=phase, number_of_iterations=number_of_iterations)\n",
    "        \n",
    "        # output ODF text file to load into MTEX\n",
    "        if not number_of_iterations:\n",
    "            output_path = output_format_string.format(test_number=test_number, phase=phase)\n",
    "        else:\n",
    "            output_path = output_format_string.format(test_number=test_number, image_number=image_number, phase=phase, number_of_iterations=number_of_iterations)\n",
    "        \n",
    "        with open(input_path, 'r') as par_analysis_file, open(output_path, 'w') as odf_text_file:  \n",
    "            line = par_analysis_file.readline()\n",
    "\n",
    "            if phase == 'alpha':\n",
    "                skip = False\n",
    "            if phase == 'beta':\n",
    "                skip = True\n",
    "\n",
    "            while line:\n",
    "                if '_rita_wimv_odf_values' in line and skip:\n",
    "                    line = par_analysis_file.readline()\n",
    "                    skip = False\n",
    "\n",
    "                if '_rita_wimv_odf_values' in line and skip == False:\n",
    "                    # set the step size to loop through the data\n",
    "                    step = odf_resolution / 10\n",
    "                    # set the limits of the data\n",
    "                    block_limit = int(7/step)+1\n",
    "                    row_limit = int(10/step)+1\n",
    "                    value_limit = int(37/step)+1\n",
    "                    \n",
    "                    for block in range(0, block_limit):\n",
    "\n",
    "                        if block <= block_limit:\n",
    "\n",
    "                            for row in range (0, row_limit):\n",
    "                                # read the data into an array \n",
    "                                intensity = par_analysis_file.readline().split()\n",
    "\n",
    "                                if row <= row_limit:\n",
    "\n",
    "                                    for value in range (0, value_limit):\n",
    "                                        # euler3 is 0 - 60 deg\n",
    "                                        euler3 = block * odf_resolution\n",
    "                                        # euler2 is 0 - 90 deg\n",
    "                                        euler2 = row * odf_resolution\n",
    "                                        # euler1 is 0 - 360 deg\n",
    "                                        euler1 = value * odf_resolution\n",
    "                                        # write the odf text file\n",
    "                                        odf_text_file.write('{:.4f}\\t{:.4f}\\t{:.4f}\\t{:.9f}\\n'.format(euler1, euler2, euler3, float(intensity[value])))     \n",
    "\n",
    "                                # skip blank line after the last row of each block\n",
    "                                # note, else if statement not applicable as both conditions needed\n",
    "                                if row == row_limit - 1:\n",
    "                                    par_analysis_file.readline()\n",
    "\n",
    "                        # break after the last block\n",
    "                        if block == block_limit - 1:\n",
    "                            done = True\n",
    "                            \n",
    "                    if done:break\n",
    "\n",
    "                else:\n",
    "                    line = par_analysis_file.readline()\n",
    "\n",
    "    print(f\"Written {int((end + 1 - start) / step)} ODF .txt files to output_folder folder.\")  "
   ]
  },
  {
   "cell_type": "code",
   "execution_count": null,
   "metadata": {},
   "outputs": [],
   "source": [
    "def get_image_numbers(start: int, end: int, step: int) -> List[int]:\n",
    "    return list(range(start, end + 1, step))"
   ]
  },
  {
   "cell_type": "code",
   "execution_count": null,
   "metadata": {},
   "outputs": [],
   "source": [
    "# user inputs\n",
    "test_number = config[\"user_inputs\"][\"test_number\"]\n",
    "print(\"The test number is: \", test_number)\n",
    "\n",
    "# which phase is being refined?\n",
    "phase = config[\"user_inputs\"][\"phase1\"]\n",
    "#phase = config[\"user_inputs\"][\"phase2\"]\n",
    "print(\"The phase is: \", phase)\n",
    "\n",
    "try:\n",
    "    number_of_iterations = config[\"user_inputs\"][\"number_of_iterations\"]\n",
    "    print(\"The number of refinement iterations is: \", number_of_iterations)\n",
    "except Exception:\n",
    "    pass\n",
    "    number_of_iterations = None\n",
    "\n",
    "if config_path == \"yaml/config_diamond_2021.yaml\":\n",
    "    # number and spacing of files\n",
    "    image_numbers = np.r_[2:42+1, 45:85+1, 88:128+1, 131:171+1, 174:214+1, 217:257+1, 260:300+1, 303:343+1, 346:386+1]\n",
    "\n",
    "else:    \n",
    "    start = config[\"image_numbers\"][\"start\"]\n",
    "    end = config[\"image_numbers\"][\"end\"]\n",
    "    step = config[\"image_numbers\"][\"step\"]\n",
    "    print(\"The start, end and step are: \", start, \", \", end, \", \", step)\n",
    "    # number and spacing of files\n",
    "    image_numbers = get_image_numbers(start, end, step)\n",
    "\n",
    "odf_resolution = config[\"user_inputs\"][\"odf_resolution\"]\n",
    "print(\"The ODF resolution is: \", odf_resolution, \" degrees\")\n",
    "\n",
    "input_format_string = config[\"file_paths\"][\"output_par_phase_refined\"]\n",
    "output_format_string = config[\"file_paths\"][\"texture_file\"]\n",
    "print(\"The output path of the texture file is: \", output_format_string)\n",
    "\n",
    "write_odf_to_text(image_numbers, test_number, phase, number_of_iterations, \n",
    "                  input_format_string, output_format_string, odf_resolution)"
   ]
  }
 ],
 "metadata": {
  "kernelspec": {
   "display_name": "Python 3",
   "language": "python",
   "name": "python3"
  },
  "language_info": {
   "codemirror_mode": {
    "name": "ipython",
    "version": 3
   },
   "file_extension": ".py",
   "mimetype": "text/x-python",
   "name": "python",
   "nbconvert_exporter": "python",
   "pygments_lexer": "ipython3",
   "version": "3.6.8"
  }
 },
 "nbformat": 4,
 "nbformat_minor": 2
}
