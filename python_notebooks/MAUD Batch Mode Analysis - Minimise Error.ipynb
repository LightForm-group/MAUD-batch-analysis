{
 "cells": [
  {
   "cell_type": "markdown",
   "metadata": {},
   "source": [
    "This notebook contains an analysis workflow for plotting refinement results from MAUD batch mode (http://maud.radiographema.eu/) and extracting crystallographic texture data for analysis using the MTEX toolbox in MATLAB (https://mtex-toolbox.github.io)\n",
    "\n",
    "## Import packages"
   ]
  },
  {
   "cell_type": "code",
   "execution_count": null,
   "metadata": {},
   "outputs": [],
   "source": [
    "import pathlib\n",
    "import re\n",
    "\n",
    "from tqdm.notebook import tqdm\n",
    "import numpy as np\n",
    "import matplotlib.pyplot as plt\n",
    "import matplotlib.colors as colors\n",
    "\n",
    "%matplotlib inline"
   ]
  },
  {
   "cell_type": "markdown",
   "metadata": {},
   "source": [
    "## Plotting refinement results"
   ]
  },
  {
   "cell_type": "markdown",
   "metadata": {},
   "source": [
    "Read in results of the fit from the text file:"
   ]
  },
  {
   "cell_type": "code",
   "execution_count": null,
   "metadata": {},
   "outputs": [],
   "source": [
    "# user inputs\n",
    "\n",
    "# test number\n",
    "test_number = 65\n",
    "\n",
    "# which phase is being refined?\n",
    "phase = 'alpha'\n",
    "\n",
    "# list the number of refinement iterations\n",
    "number_of_iterations = [1,2,5,10,20,30,40,50]"
   ]
  },
  {
   "cell_type": "code",
   "execution_count": null,
   "metadata": {},
   "outputs": [],
   "source": [
    "results_file = f'../analysis/{test_number:03d}/results/batch_results_{test_number:03d}_{phase}_10iter.txt'\n",
    "results = np.loadtxt(results_file, usecols = np.arange(0,19), dtype='str', skiprows = 1)"
   ]
  },
  {
   "cell_type": "markdown",
   "metadata": {},
   "source": [
    "Read in the data headers:"
   ]
  },
  {
   "cell_type": "code",
   "execution_count": null,
   "metadata": {},
   "outputs": [],
   "source": [
    "with open (results_file) as file:\n",
    "    header = file.readline().split()\n",
    "    for i in range(0, len(header)):\n",
    "        print('header column ', i ,' = ', header[i])"
   ]
  },
  {
   "cell_type": "markdown",
   "metadata": {},
   "source": [
    "Write the results of the fit to a dictionary:"
   ]
  },
  {
   "cell_type": "code",
   "execution_count": null,
   "metadata": {
    "scrolled": true
   },
   "outputs": [],
   "source": [
    "results_dict={}\n",
    "\n",
    "for iteration in number_of_iterations:\n",
    "    \n",
    "    results_dict[str(iteration)]={}\n",
    "    \n",
    "    results_file = f'../analysis/{test_number:03d}/results/batch_results_{test_number:03d}_{phase}_{iteration}iter.txt'\n",
    "    results = np.loadtxt(results_file, usecols = np.arange(0,19), dtype='str', skiprows = 1)\n",
    "\n",
    "    results_dict[str(iteration)]['title'] = results[:,0]\n",
    "    results_dict[str(iteration)]['R_wp'] = results[:,1].astype(np.float)\n",
    "    results_dict[str(iteration)]['phase'] = results[0,2]\n",
    "    results_dict[str(iteration)]['volume'] = results[:,3].astype(np.float)\n",
    "    results_dict[str(iteration)]['vol_error'] = results[:,4].astype(np.float)\n",
    "    results_dict[str(iteration)]['weight_percent'] = results[:,5].astype(np.float)\n",
    "    results_dict[str(iteration)]['weight_error'] = results[:,6].astype(np.float)\n",
    "    results_dict[str(iteration)]['cell_par_a'] = results[:,7].astype(np.float)\n",
    "    results_dict[str(iteration)]['cell_par_c'] = results[:,8].astype(np.float)\n",
    "    results_dict[str(iteration)]['size'] = results[:,9].astype(np.float)\n",
    "    results_dict[str(iteration)]['microstrain'] = results[:,10].astype(np.float)\n",
    "    results_dict[str(iteration)]['phase2'] = results[0,11]\n",
    "    results_dict[str(iteration)]['volume2'] = results[:,12].astype(np.float)\n",
    "    results_dict[str(iteration)]['vol_error2'] = results[:,13].astype(np.float)\n",
    "    results_dict[str(iteration)]['weight_percent2'] = results[:,14].astype(np.float)\n",
    "    results_dict[str(iteration)]['weight_error2'] = results[:,15].astype(np.float)\n",
    "    results_dict[str(iteration)]['cell_par_a2'] = results[:,16].astype(np.float)\n",
    "    results_dict[str(iteration)]['size2'] = results[:,17].astype(np.float)\n",
    "    results_dict[str(iteration)]['microstrain2'] = results[:,18].astype(np.float)"
   ]
  },
  {
   "cell_type": "markdown",
   "metadata": {},
   "source": [
    "There is a problem with saving the test number in the results text file within MAUD. So, use this to record the test number."
   ]
  },
  {
   "cell_type": "code",
   "execution_count": null,
   "metadata": {},
   "outputs": [],
   "source": [
    "test_number = []\n",
    "\n",
    "for number in range(3100,3450,50):\n",
    "    test_number.append(int(number))\n",
    "    \n",
    "print('test_number =', test_number)"
   ]
  },
  {
   "cell_type": "markdown",
   "metadata": {},
   "source": [
    "Plotting parameters:"
   ]
  },
  {
   "cell_type": "code",
   "execution_count": null,
   "metadata": {},
   "outputs": [],
   "source": [
    "plt.rc('xtick', labelsize = 24)\n",
    "plt.rc('ytick', labelsize = 24)\n",
    "plt.rc('legend', fontsize = 20)\n",
    "plt.rc('axes', linewidth = 2)\n",
    "plt.rc('xtick.major', width = 2, size = 10)\n",
    "plt.rc('xtick.minor', width = 2, size = 5)\n",
    "plt.rc('ytick.major', width = 2, size = 10)\n",
    "plt.rc('ytick.minor', width = 2, size = 5)"
   ]
  },
  {
   "cell_type": "code",
   "execution_count": null,
   "metadata": {},
   "outputs": [],
   "source": [
    "def colour_range(N: int = 9, colour_map: str = 'viridis'):\n",
    "    \"\"\" Return a range of hex colour codes for a particular colour map.\n",
    "    \n",
    "    :param N: number of desired colour codes (default is 9).\n",
    "    :param colour_map: type of colour map (default is 'viridis').\n",
    "    :return: list of hex colour codes\n",
    "    \"\"\"\n",
    "    base = plt.cm.get_cmap(colour_map)\n",
    "    colour_list = base(np.linspace(0, 1, N))\n",
    "    colour_hex_list=[]\n",
    "    for i in range (N-1, -1, -1):\n",
    "         colour_hex_list.append(colors.rgb2hex(colour_list[i]))\n",
    "    \n",
    "    return colour_hex_list"
   ]
  },
  {
   "cell_type": "markdown",
   "metadata": {},
   "source": [
    "Plot the goodness of fit (R<sub>wp</sub>) values:"
   ]
  },
  {
   "cell_type": "code",
   "execution_count": null,
   "metadata": {},
   "outputs": [],
   "source": [
    "plt.figure(figsize=(10,8))\n",
    "colour=colour_range(len(number_of_iterations))\n",
    "i=0\n",
    "for iteration in number_of_iterations:\n",
    "    line = plt.plot(test_number, results_dict[str(iteration)]['R_wp'], color = colour[i], linewidth = 4)\n",
    "    plt.title(header[1], fontsize = 30)\n",
    "    i+=1\n",
    "plt.xlabel('Test Number', fontsize = 30)\n",
    "plt.ylabel(header[1], fontsize = 30)\n",
    "plt.legend(number_of_iterations)"
   ]
  },
  {
   "cell_type": "markdown",
   "metadata": {
    "collapsed": true
   },
   "source": [
    "## Refinement time in MAUD"
   ]
  },
  {
   "cell_type": "markdown",
   "metadata": {},
   "source": [
    "The approximate refinement time for a single diffraction pattern in MAUD batch mode is listed here:\n",
    "\n",
    "- 1 iteration - 10 seconds\n",
    "- 2 iterations - 20 seconds\n",
    "- 5 iterations - 40 seconds\n",
    "- 10 iterations - 75 seconds\n",
    "- 20 iterations - 125 seconds\n",
    "- 30 iterations - 170 seconds\n",
    "- 40 iterations - 220 seconds\n",
    "- 50 iterations - 260 seconds\n",
    "- 100 iterations - 370 seconds\n",
    "\n",
    "These results are plotted below, to give an estimate of the refinement time."
   ]
  },
  {
   "cell_type": "code",
   "execution_count": null,
   "metadata": {},
   "outputs": [],
   "source": [
    "x = [1,2,5,10,20,30,40,50,100]\n",
    "y = [10,20,40,75,125,170,220,260,370]\n",
    "\n",
    "plt.figure(figsize=(10,8))\n",
    "plt.plot(x,y,color = 'red', linewidth = 4)\n",
    "plt.xlabel('Number of Iterations', fontsize = 30)\n",
    "plt.ylabel('Time (s)', fontsize = 30)\n",
    "plt.title('Refinement time for single pattern', fontsize = 30)"
   ]
  },
  {
   "cell_type": "code",
   "execution_count": null,
   "metadata": {},
   "outputs": [],
   "source": []
  }
 ],
 "metadata": {
  "kernelspec": {
   "display_name": "Python 3",
   "language": "python",
   "name": "python3"
  },
  "language_info": {
   "codemirror_mode": {
    "name": "ipython",
    "version": 3
   },
   "file_extension": ".py",
   "mimetype": "text/x-python",
   "name": "python",
   "nbconvert_exporter": "python",
   "pygments_lexer": "ipython3",
   "version": "3.6.8"
  }
 },
 "nbformat": 4,
 "nbformat_minor": 2
}
