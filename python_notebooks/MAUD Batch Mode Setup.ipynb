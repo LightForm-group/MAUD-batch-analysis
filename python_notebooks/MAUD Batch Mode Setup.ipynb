{
 "cells": [
  {
   "cell_type": "markdown",
   "metadata": {},
   "source": [
    "This notebook contains an analysis workflow for refining textures in diffraction spectra using MAUD (http://maud.radiographema.eu/)"
   ]
  },
  {
   "cell_type": "markdown",
   "metadata": {},
   "source": [
    "## Import packages"
   ]
  },
  {
   "cell_type": "code",
   "execution_count": null,
   "metadata": {},
   "outputs": [],
   "source": [
    "import pathlib\n",
    "\n",
    "from tqdm.notebook import tqdm\n",
    "import numpy as np\n",
    "\n",
    "import yaml\n",
    "from typing import Tuple\n",
    "from typing import List"
   ]
  },
  {
   "cell_type": "markdown",
   "metadata": {},
   "source": [
    "## Preparing the spectra"
   ]
  },
  {
   "cell_type": "markdown",
   "metadata": {},
   "source": [
    "**Notes on caking in DAWN**\n",
    "\n",
    "Notes on using DAWN to cake the diffraction pattern images are available on the [LightForm Wiki](https://lightform-group.github.io/wiki/tutorials/sxrd-caking).\n",
    "\n",
    "In DAWN the data must be caked with the x-axis chosen as pixel number (pixels) and saved as a .dat file. It is not possible to adjust data using x-axis as the two-theta angle (degrees).\n",
    "\n",
    "For caking the data for texture recalculation in MAUD the following parameters are used;\n",
    "\n",
    "- Import tiffs using either .nxs file (for standard 2 Hz acquisition) or as .dat file (for faster acquisitions) into ‘data slice viewer’ within the ‘processing’ tab.\n",
    "\n",
    "- Select pilatus, image 2D, finish.\n",
    "\n",
    "- For **cake remapping**, in ‘processing’ window;\n",
    "    - Import detector calibration (calibration_output.nxs\n",
    "    - Threshold mask, set lower to 0.0\n",
    "    - Cake remapping, azimuthal range 2.5, -357.5, number of azimuthal bins 72, number of bins blank, pixel splitting tick, radial range blank, X axis pixel.\n",
    "    - Export to text file, file extension .dat, choose output directory, pad with zeros 5"
   ]
  },
  {
   "cell_type": "markdown",
   "metadata": {},
   "source": [
    "**Notes on caking in pyFAI**\n",
    "\n",
    "Data can also be caked using [pyFAI](https://pyfai.readthedocs.io/en/latest/#) as explained on the [LightForm Wiki](https://lightform-group.github.io/wiki/tutorials/sxrd-caking-dioptas) using  [pyFAI-integration-caking](https://github.com/LightForm-group/pyFAI-integration-caking) notebook available on GitHub."
   ]
  },
  {
   "cell_type": "markdown",
   "metadata": {},
   "source": [
    "## Creating a template \".par\" file\n",
    "\n",
    "Before beginning the batch mode analysis a **template .par file** must be set up in MAUD.\n",
    "This provides MAUD with information about the beamline setup and also the data to be analysed.\n",
    "\n",
    "#### Creating and loading beamline calibration\n",
    "\n",
    "First the beamline calibration data must be loaded into MAUD\n",
    "- Calibration data for the beamline must be created using a known calibrant. An example of this is shown in the \"data/calibration\" folder for experiments conducted at Diamond in 2017 and 2021. For example, the \"calibration_1200mm.dat\" file from 2017 is the specrum of a \"CeO2\" calibrant.\n",
    "- To be read into MAUD, the calibration data must be converted to a \".esg\" file which can be done [using the script below](#cell1)\n",
    "- Load the .esg calibration file into MAUD.\n",
    "\n",
    "\n",
    "#### Creating an instrument type\n",
    "An **'instrument type'** must then be created in MAUD:\n",
    "- Follow online videos to define the instrument (https://www.youtube.com/user/MaudRietveldProgram/videos)\n",
    "\n",
    "*Note, the .dat files have already undergone initial calibration in DAWN or pyFAI, so ImageJ isn't needed to load the tiffs here, which would lead to a very different calibration in MAUD.*\n",
    "\n",
    "#### Load experimental data into MAUD\n",
    "\n",
    "- Create a .esg file containing experimental data from the .dat files [using the script below](#cell2).\n",
    "- Load the data .esg file in MAUD.\n",
    "- Select the new instrument type defined in the step above.\n",
    "\n",
    "#### Creating the template .par file\n",
    "\n",
    "Then, create a **template .par file** in MAUD;\n",
    "\n",
    "- Set up the refinement;\n",
    "    - Set data range ~ 1.7 to 9.9 for Diamond 2017 and ~ 2 - 9.3 for Diamond 2021 experiments\n",
    "    - Add extra background parameter.\n",
    "    - Add alpha and beta cifs.\n",
    "    - Set Biso to 0.5\n",
    "    - Set approximate volume fraction.\n",
    "    - Manually adjust crystal parameters to fit peak positions.\n",
    "    - Auto refine background, free scale factors and cell parameters. *Note, leave beam centre fixed.*\n",
    "    - Auto refine volume fraction.\n",
    "    - Auto refine crystal size and micro-strain.\n",
    "    - Auto refine the Caglioti and Gaussian parameters, to better fit the peak shape. *Note, only include this step for high temperature data when the peak shapes are poorly fit*\n",
    "    - Add E-WIMV texture for alpha-phase. Set ODF resolution to 5, 10 or 15 degree resolution and untick \"normalise\" on the E-WIMV options. *Note, 15 degree resolution seems to better replicate the actual texture strength at room temperature.*\n",
    "    - Fix crystal size and micro-strain and turn on texture refinement (but, don't click refine).\n",
    "    - *Note, to refine beta-phase, untick ODF refineable on alpha-phase.*\n",
    "    \n",
    "- Save this as a template .par file with the experiment number i.e. 'template_065.par' for Diamond 2017 or 'template_103840.par' for Diamond 2021 experiments."
   ]
  },
  {
   "cell_type": "markdown",
   "metadata": {
    "heading_collapsed": true
   },
   "source": [
    "## Structure of notebook and file input/output for Diamond 2017 experiment"
   ]
  },
  {
   "cell_type": "markdown",
   "metadata": {
    "hidden": true
   },
   "source": [
    "**1. Write out a single .esg calibration file for MAUD.**\n",
    "   - *input: caked synchrotron data for calibration.*\n",
    "        - data/diamond_2017/calibration-pyFAI/calibration_1200mm_pyFAI.dat\n",
    "   - *output: calibration .esg data file written to 'calibration' folder, named with detector distance.*\n",
    "        - analysis/diamond_2017/calibration-pyFAI/calibration_1200mm_pyFAI.esg\n",
    "        \n",
    "        \n",
    "**2. Loop through multiple input files to output .esg data files for MAUD.**\n",
    "   - *input: caked synchrotron data for experiment.* \n",
    "        - data/diamond_2017/065/pixium_03100.dat\n",
    "   - *output: experiment .esg data file written to 'calibration' folder.*\n",
    "        - analysis/diamond_2017/065_15deg/065_03100.esg\n",
    "        \n",
    "        \n",
    "**3. Output many .par analysis files for MAUD batch mode analysis.**\n",
    "   - *input: caked synchrotron data for experiment.* \n",
    "        - data/diamond_2017/065/pixium_03100.dat\n",
    "   - *input: template MAUD .par analysis file.* \n",
    "        - analysis/diamond_2017/065_15deg/template_065.par\n",
    "   - *output: experiment .par analysis files written to 'analysis' folder.*\n",
    "        - analysis/diamond_2017/065_15deg/065_03100.par\n",
    "        \n",
    "        \n",
    "**4. Write an instruction file for the batch mode.**\n",
    "   - *output: instruction file.*\n",
    "        - MAUD_batch_MacOS_065_alpha_20iter.ins\n",
    "        \n",
    "        \n",
    "**5. Running MAUD batch mode.**\n",
    "   - *input: instruction file.*\n",
    "        - MAUD_batch_MacOS_065_alpha_20iter.ins\n",
    "   - *input: experiment .par analysis files.*\n",
    "        - analysis/diamond_2017/065_15deg/065_03100.par\n",
    "   - *output: .par analysis files containing refined alpha texture for each experiment.*\n",
    "        - analysis/diamond_2017/065_15deg/065_03100_alpha_20iter.par   \n",
    "   - *output: text file containing MAUD refinement results.*\n",
    "        - analysis/diamond_2017/065_15deg/batch_results_065_alpha_20iter.txt\n",
    "        \n",
    "        \n",
    "**6. Output many .par analysis files to refine the $\\beta$ texture.**\n",
    "   - *input: .par analysis files containing refined alpha texture for each experiment.*\n",
    "        - analysis/diamond_2017/065_15deg/065_03100_alpha_20iter.par   \n",
    "   - *output: .par analysis files for refining beta texture.*\n",
    "        - analysis/diamond_2017/065_15deg/065_03100_beta.par   \n",
    "        \n",
    "   \n",
    "**7. Write an instruction file for refining the $\\beta$ texture in batch mode.**\n",
    "   - *output: instruction file.*\n",
    "        - MAUD_batch_MacOS_065_beta_20iter.ins\n",
    "        \n",
    "\n",
    "**8. Running MAUD batch mode (to refine the $\\beta$ texture).**\n",
    "   - *input: instruction file.*\n",
    "        - MAUD_batch_MacOS_065_alpha_20iter.ins\n",
    "   - *input: experiment .par analysis files.*\n",
    "        - analysis/diamond_2017/065_15deg/065_03100_beta.par \n",
    "   - *output: .par analysis files containing refined beta texture for each experiment.*\n",
    "        - analysis/diamond_2017/065_15deg/065_03100_beta_20iter.par   \n",
    "   - *output: text file containing MAUD refinement results.*\n",
    "        - analysis/diamond_2017/065_15deg/batch_results_065_beta_20iter.txt"
   ]
  },
  {
   "cell_type": "markdown",
   "metadata": {
    "heading_collapsed": true
   },
   "source": [
    "## Structure of notebook and file input/output for Diamond 2021 experiment"
   ]
  },
  {
   "cell_type": "markdown",
   "metadata": {
    "hidden": true
   },
   "source": [
    "**1. Write out a single .esg calibration file for MAUD.**\n",
    "   - *input: caked synchrotron data for calibration.*\n",
    "        - data/diamond_2021/103852-calibration/00001.dat\n",
    "   - *output: calibration .esg data file written to 'calibration' folder, named with detector distance.*\n",
    "        - analysis/diamond_2021/103852-calibration/MAUD_calibration_754mm_pyFAI.esg\n",
    "        \n",
    "        \n",
    "**2. Loop through multiple input files to output .esg data files for MAUD.**\n",
    "   - *input: caked synchrotron data for experiment.* \n",
    "        - data/diamond_2021/103845-stage-scan/00001.dat\n",
    "   - *output: experiment .esg data file written to 'calibration' folder.*\n",
    "        - analysis/diamond_2021/103845-stage-scan/15deg/103845_00001.esg\n",
    "        \n",
    "        \n",
    "**3. Output many .par analysis files for MAUD batch mode analysis.**\n",
    "   - *input: caked synchrotron data for experiment.* \n",
    "        - data/diamond_2021/103845-stage-scan/00001.dat\n",
    "   - *input: template MAUD .par analysis file.* \n",
    "        - analysis/diamond_2021/103845-stage-scan/15deg/template_103845.par\n",
    "   - *output: experiment .par analysis files written to 'analysis' folder.*\n",
    "        - analysis/diamond_2021/103845-stage-scan/15deg/103845_00001.par\n",
    "        \n",
    "        \n",
    "**4. Write an instruction file for the batch mode.**\n",
    "   - *output: instruction file.*\n",
    "        - MAUD_batch_MacOS_103845_alpha_5iter.ins\n",
    "        \n",
    "        \n",
    "**5. Running MAUD batch mode.**\n",
    "   - *input: instruction file.*\n",
    "        - MAUD_batch_MacOS_103845_alpha_5iter.ins\n",
    "   - *input: experiment .par analysis files.*\n",
    "        - analysis/diamond_2021/103845-stage-scan/15deg/103845_00001.par\n",
    "   - *output: .par analysis files containing refined alpha texture for each experiment.*\n",
    "        - analysis/diamond_2021/103845-stage-scan/15deg/103845_00001_alpha_5iter.par   \n",
    "   - *output: text file  containing MAUD refinement results.*\n",
    "        - analysis/diamond_2021/103845-stage-scan/15deg/results/batch_results_103845_alpha_5iter.txt\n",
    "        \n",
    "        \n",
    "**6. Output many .par analysis files to refine the $\\beta$ texture.**\n",
    "   - *input: .par analysis files containing refined alpha texture for each experiment.*\n",
    "        - analysis/diamond_2021/103845-stage-scan/15deg/103845_00001_alpha_5iter.par   \n",
    "   - *output: .par analysis files for refining beta texture.*\n",
    "        - analysis/diamond_2021/103845-stage-scan/15deg/103845_00001_beta.par   \n",
    "        \n",
    "   \n",
    "**7. Write an instruction file for refining the $\\beta$ texture in batch mode.**\n",
    "   - *output: instruction file.*\n",
    "        - MAUD_batch_MacOS_103845_beta_5iter.ins\n",
    "        \n",
    "\n",
    "**8. Running MAUD batch mode (to refine the $\\beta$ texture).**\n",
    "   - *input: instruction file.*\n",
    "        - MAUD_batch_MacOS_103845_alpha_5iter.ins\n",
    "   - *input: experiment .par analysis files.*\n",
    "        - analysis/diamond_2021/103845-stage-scan/15deg/103845_00001_beta.par \n",
    "   - *output: .par analysis files containing refined beta texture for each experiment.*\n",
    "        - analysis/diamond_2021/103845-stage-scan/15deg/103845_00001_beta_5iter.par    \n",
    "   - *output: text file  containing MAUD refinement results.*\n",
    "        - analysis/diamond_2021/103845-stage-scan/15deg/results/batch_results_103845_beta_5iter.txt"
   ]
  },
  {
   "cell_type": "markdown",
   "metadata": {},
   "source": [
    "## Load YAML file"
   ]
  },
  {
   "cell_type": "markdown",
   "metadata": {},
   "source": [
    "The file paths and user inputs for the analysis of the Diamond 2017 and Diamond 2021 experiments are included in the `yaml` configuration files, to record the inputs of the analysis."
   ]
  },
  {
   "cell_type": "code",
   "execution_count": null,
   "metadata": {},
   "outputs": [],
   "source": [
    "def get_config(path: str) -> dict:\n",
    "    \"\"\"Open a yaml file and return the contents.\"\"\"\n",
    "    with open(path) as input_file:\n",
    "        return yaml.safe_load(input_file)"
   ]
  },
  {
   "cell_type": "markdown",
   "metadata": {},
   "source": [
    "The information in the `yaml` file can be accessed like this."
   ]
  },
  {
   "cell_type": "code",
   "execution_count": null,
   "metadata": {},
   "outputs": [],
   "source": [
    "# to load the Diamond 2017 analysis\n",
    "config_path = \"yaml/config_diamond_2017.yaml\"\n",
    "config = get_config(config_path)"
   ]
  },
  {
   "cell_type": "code",
   "execution_count": null,
   "metadata": {},
   "outputs": [],
   "source": [
    "# to load the Diamond 2021 analysis\n",
    "config_path = \"yaml/config_diamond_2021.yaml\"\n",
    "config = get_config(config_path)"
   ]
  },
  {
   "cell_type": "code",
   "execution_count": null,
   "metadata": {},
   "outputs": [],
   "source": [
    "# You can access nested values using multiple sets of square brackets.\n",
    "print(config[\"image_numbers\"][\"start\"])\n",
    "print(config[\"file_paths\"][\"input\"])\n",
    "\n",
    "for i in range(3):\n",
    "    # You can use format to substitute variables into strings\n",
    "    print(config[\"file_paths\"][\"input\"].format(test_number=config[\"user_inputs\"][\"test_number\"], image_number=i))"
   ]
  },
  {
   "cell_type": "markdown",
   "metadata": {},
   "source": [
    "These simple functions return the file paths as strings."
   ]
  },
  {
   "cell_type": "code",
   "execution_count": null,
   "metadata": {},
   "outputs": [],
   "source": [
    "def get_io_path(path_stub: str, test_number: int, image_number: int) -> str:\n",
    "    \"\"\"Construct the path of the input/output file.\"\"\"\n",
    "    return path_stub.format(test_number=test_number, image_number=image_number)\n",
    "\n",
    "def get_template_path(path_stub: str, test_number: int) -> str:\n",
    "    \"\"\"Construct the path of the template file.\"\"\"\n",
    "    return path_stub.format(test_number=test_number)\n",
    "    \n",
    "def get_image_numbers(start: int, end: int, step: int) -> List[int]:\n",
    "    return list(range(start, end + 1, step))"
   ]
  },
  {
   "cell_type": "code",
   "execution_count": null,
   "metadata": {},
   "outputs": [],
   "source": [
    "def get_paths(config_path: str, test_number: int, image_number: int) -> Tuple[str, str, str]:\n",
    "    \"\"\"Return the path of the input, output and template file.\"\"\"\n",
    "    config = get_config(config_path)\n",
    "    paths = config[\"file_paths\"]\n",
    "    input_path = get_io_path(paths[\"input\"], test_number, image_number)\n",
    "    output_esg_path = get_io_path(paths[\"output_esg\"], test_number, image_number)\n",
    "    output_par_path = get_io_path(paths[\"output_par\"], test_number, image_number)\n",
    "    template_par_path = get_template_path(paths[\"template\"], test_number)\n",
    "    \n",
    "    return(input_path, output_esg_path, output_par_path, template_par_path)"
   ]
  },
  {
   "cell_type": "markdown",
   "metadata": {},
   "source": [
    "<a id=\"cell1\"></a>\n",
    "## 1. Write out a single .esg calibration file for MAUD"
   ]
  },
  {
   "cell_type": "markdown",
   "metadata": {},
   "source": [
    "#### Sample orientation\n",
    "\n",
    "The goniometer sample rotation angles ${\\omega, \\chi, \\phi}$ refer to sample rotations around the X (RD - rolling direction), Z (ND - normal direction) and Y (TD - transverse direction) axes, respectively. For synchrotron x-ray diffraction, the 0, 0, 0 orientation is such that X (RD) is aligned parrallel with the top of the detector, Z (ND) is aligned along the in-beam direction, Y (TD) is aligned with  the side of the detector. By applying sequential rotations it is possible to align a sample with any given orientation.\n",
    "\n",
    "In MAUD, the pole figure directions are not given. The pole figure (PF) convention in MAUD is that the right of the PF is the X (RD) direction, or the top of the detector, the top of the PF is the Z (ND) direction, or the in-beam direction, and the centre of the PF is the Y (TD) direction, or the side of the detector. Therefore, it is possible to correctly reorientate the subset pole figure coverage recorded by the diffraction pattern ring intensities during an experiment."
   ]
  },
  {
   "cell_type": "code",
   "execution_count": null,
   "metadata": {},
   "outputs": [],
   "source": [
    "def dat_to_esg(input_path: str, pixel_size: float, detector_distance: float, start_angle: int, \n",
    "               omega: int, chi: int, phi: int, output_path: str):\n",
    "    \"\"\"This function reads in a calibration data in '.dat' format and outputs it in '.esg' format\n",
    "    for reading into MAUD.\n",
    "    \"\"\"\n",
    "    # caked synchrotron data from DAWN\n",
    "    input_data = np.loadtxt(input_path)\n",
    "\n",
    "    # read the pixel spacing from the data file and multiply by pixel size to get pixel positions in mm\n",
    "    pixel_list = input_data[:, 0] * pixel_size\n",
    "\n",
    "    cake_spectrum = input_data[:, 1:]\n",
    "    number_of_cakes = cake_spectrum.shape[1]\n",
    "    cake_width = 360 / number_of_cakes\n",
    "\n",
    "    # name and open the output MAUD data file\n",
    "    output_folder = pathlib.Path(output_path).parent\n",
    "    output_folder.mkdir(exist_ok=True)\n",
    "\n",
    "    with open(output_path, 'w') as output_file:\n",
    "\n",
    "        # write metadata for the top of the file\n",
    "        output_file.write('_pd_block_id noTitle|#0\\n'\n",
    "        '_diffrn_detector Image Plate\\n'\n",
    "        '_diffrn_detector_type Image Plate\\n'\n",
    "        '_pd_meas_step_count_time ?\\n'\n",
    "        '_diffrn_measurement_method ?\\n'\n",
    "        '_diffrn_measurement_distance_unit mm\\n'\n",
    "        '_pd_instr_dist_spec/detc {:.4f}\\n'.format(detector_distance))\n",
    "        output_file.write('_diffrn_radiation_wavelength ?\\n'\n",
    "        '_diffrn_source_target ?\\n'\n",
    "        '_diffrn_source_power ?\\n'\n",
    "        '_diffrn_source_current ?\\n')\n",
    "        output_file.write('_pd_meas_angle_omega {:.1f}\\n'.format(omega))# rotation of sample around X (RD) axis\n",
    "        output_file.write('_pd_meas_angle_chi {:.1f}\\n'.format(chi)) # rotation of sample around Z (ND) axis\n",
    "        output_file.write('_pd_meas_angle_phi {:.1f}\\n'.format(phi)) # rotation of sample around Y (TD) axis\n",
    "        output_file.write('_riet_par_spec_displac_x 0\\n'\n",
    "        '_riet_par_spec_displac_y 0\\n'\n",
    "        '_riet_par_spec_displac_z 0\\n'\n",
    "        '_riet_meas_datafile_calibrated false\\n'\n",
    "        '_pd_meas_angle_eta {:.1f}\\n\\n'.format(start_angle))\n",
    "        output_file.write('loop_\\n'\n",
    "        '_pd_proc_2theta_corrected\\n'\n",
    "        '_pd_meas_intensity_total\\n')\n",
    "\n",
    "        # write the first cake intensity data\n",
    "        for i in range(len(pixel_list) - 1, -1, -1):\n",
    "            output_file.write('{:.3f}\\t{:.8f}\\n'.format(pixel_list[i], cake_spectrum[i][0]))\n",
    "\n",
    "        # write all the other cake data with additional info\n",
    "        for cake_number in range(1, number_of_cakes, 1):    \n",
    "            output_file.write('\\n_pd_block_id noTitle|#{:.0f}\\n\\n'.format(cake_number))\n",
    "            cake_angle = start_angle + cake_number * cake_width\n",
    "            output_file.write('_pd_meas_angle_eta {:.1f}\\n\\n'.format(cake_angle))\n",
    "            output_file.write('loop_\\n'\n",
    "            '_pd_proc_2theta_corrected\\n'\n",
    "            '_pd_meas_intensity_total\\n')\n",
    "\n",
    "            # write cake intensity data for each cake\n",
    "            for i in range(len(pixel_list)-1, -1, -1):\n",
    "                output_file.write('{:.3f}\\t{:.8f}\\n'.format(pixel_list[i], cake_spectrum[i][cake_number]))\n",
    "\n",
    "    print(f\"Written .esg data file to: '{output_path}'.\")"
   ]
  },
  {
   "cell_type": "code",
   "execution_count": null,
   "metadata": {},
   "outputs": [],
   "source": [
    "# user inputs (in mm)\n",
    "detector_distance_approx = config[\"user_inputs\"][\"detector_distance_approx\"] # This is an approximate distance which will be refined by MAUD\n",
    "print(\"The approximate sample-to-detector distance is: \", detector_distance_approx, \" mm\")\n",
    "pixel_size = config[\"user_inputs\"][\"pixel_size\"]\n",
    "print(\"The pixel size of the detector is: \", pixel_size, \" mm\")\n",
    "\n",
    "# specifying the angle of the first cake in the data file.\n",
    "start_angle = config[\"user_inputs\"][\"start_angle\"]\n",
    "print(\"The angle of the first cake in the data file is: \", start_angle, \" degrees\")\n",
    "\n",
    "# where the .esg file is written\n",
    "input_path = config[\"file_paths\"][\"input_calibration\"]\n",
    "print(\"The input path is :\", input_path)\n",
    "output_path = config[\"file_paths\"][\"output_calibration\"]\n",
    "print(\"The output path is :\", output_path)\n",
    "\n",
    "omega = config[\"user_inputs\"][\"omega\"]\n",
    "chi = config[\"user_inputs\"][\"chi\"]\n",
    "phi = config[\"user_inputs\"][\"phi\"]\n",
    "\n",
    "dat_to_esg(input_path, pixel_size, detector_distance_approx, start_angle, omega, chi, phi, output_path)"
   ]
  },
  {
   "cell_type": "markdown",
   "metadata": {},
   "source": [
    "<a id=\"cell2\"></a>\n",
    "## 2. Loop through multiple input files to output .esg data files for MAUD"
   ]
  },
  {
   "cell_type": "markdown",
   "metadata": {},
   "source": [
    "Normally, we have many analysis files spaced in time. These are read in a loop by the `create_data_esgs` which produces one .esg data file for each input .dat file."
   ]
  },
  {
   "cell_type": "code",
   "execution_count": null,
   "metadata": {},
   "outputs": [],
   "source": [
    "def create_data_esgs(config_path: str, image_numbers: List[int], test_number: int, pixel_size: float, \n",
    "                     detector_distance: float, start_angle: int, omega: int, chi: int, phi: int):\n",
    "    \"\"\"This function iterates through a set of data files in '.dat' format and outputs them in '.esg' format\n",
    "    for reading into MAUD.\n",
    "    \"\"\"\n",
    "    # loop through the data using the image number of the files\n",
    "    for image_number in tqdm(image_numbers):\n",
    "\n",
    "        # caked synchrotron data from DAWN\n",
    "        input_path, output_esg_path, output_par_path, template_par_path = get_paths(config_path, test_number, image_number)\n",
    "        dat_to_esg(input_path, pixel_size, detector_distance, start_angle, omega, chi, phi, output_esg_path)\n",
    "\n",
    "    print(f\"Written {int((end + 1 - start) / step)} .esg data files to '{output_esg_path}' folder.\")"
   ]
  },
  {
   "cell_type": "markdown",
   "metadata": {},
   "source": [
    "In this case the output files are written into the `analysis` folder and saved in the format `{test_number\n",
    "}_{image_number}.esg`"
   ]
  },
  {
   "cell_type": "code",
   "execution_count": null,
   "metadata": {},
   "outputs": [],
   "source": [
    "detector_distance = config[\"user_inputs\"][\"detector_distance\"] # use the MAUD calibrated detector distance\n",
    "print(\"The exact sample-to-detector distance is: \", detector_distance, \" mm\")\n",
    "\n",
    "test_number = config[\"user_inputs\"][\"test_number\"]\n",
    "print(\"The test number is: \", test_number)\n",
    "\n",
    "start = config[\"image_numbers\"][\"start\"]\n",
    "end = config[\"image_numbers\"][\"end\"]\n",
    "step = config[\"image_numbers\"][\"step\"]\n",
    "print(\"The start is: \", start, \", the end is \", end, \", the step is \", step)\n",
    "\n",
    "image_numbers = get_image_numbers(start, end, step)\n",
    "\n",
    "create_data_esgs(config_path, image_numbers, test_number, pixel_size, detector_distance, start_angle, omega, chi, phi)"
   ]
  },
  {
   "cell_type": "markdown",
   "metadata": {
    "collapsed": true
   },
   "source": [
    "## 3. Output many .par analysis files for MAUD batch mode analysis"
   ]
  },
  {
   "cell_type": "markdown",
   "metadata": {},
   "source": [
    "The next cells can be used to write out a number of .par analysis files to be refined using MAUD batch mode. \n",
    "\n",
    "\n",
    "These scripts use a template MAUD .par analysis file to swap the data into. This file will have been manually refined in MAUD and setup ready to refine in batch mode. It is assumed that this template MAUD par file is named in the format `template_{experiment_number}.par`.\n",
    "\n",
    "\n",
    "The output files are written into an 'analysis' folder and saved in the format `{experiment_number}_{test_number}.par`. This analysis folder will then be used in the subsequent batch mode analysis using MAUD."
   ]
  },
  {
   "cell_type": "code",
   "execution_count": null,
   "metadata": {},
   "outputs": [],
   "source": [
    "def dat_to_par(input_path: str, pixel_size: float, detector_distance: float, start_angle: int, output_par_path: str,\n",
    "              template_par_path: str, previous_esg_filename: str, test_number:int, image_number: int):\n",
    "    \"\"\"This function reads in data files in '.dat' format and outputs them in '.par' analysis file format\n",
    "    for analysis using MAUD. The function generates the .par file based on a template.\n",
    "    \"\"\"\n",
    "    # caked synchrotron data from DAWN\n",
    "    input_data = np.loadtxt(input_path)\n",
    "    \n",
    "    # read the pixel spacing from the data file and multiply by pixel size to get pixel positions in mm\n",
    "    pixel_list = input_data[:, 0] * pixel_size\n",
    "\n",
    "    cake_spectrum = input_data[:, 1:]\n",
    "    number_of_cakes = cake_spectrum.shape[1]\n",
    "    cake_width = 360 / number_of_cakes\n",
    "\n",
    "    # name and open the output MAUD par analysis file\n",
    "    output_folder = pathlib.Path(output_par_path).parent\n",
    "    output_folder.mkdir(exist_ok=True)\n",
    "\n",
    "    with open(template_par_path, 'r') as template_par_file, open(output_par_path, 'w') as new_par_file:\n",
    "        cake_number = 0\n",
    "        line = template_par_file.readline() \n",
    "\n",
    "        while line:\n",
    "            # rename the datafiles in the .par file\n",
    "            if previous_esg_filename in line:\n",
    "                new_esg_filename = f'{test_number}_{image_number}'\n",
    "                new_line = line.replace(previous_esg_filename, new_esg_filename)\n",
    "                new_par_file.write(new_line)\n",
    "\n",
    "            # replace the data when this line is found\n",
    "            elif '_pd_meas_position _pd_meas_intensity_total _pd_meas_intensity_sigma' in line:\n",
    "                new_par_file.write(line)\n",
    "\n",
    "                # write the new data in place\n",
    "                for j in range(len(pixel_list)-1, -1, -1):\n",
    "                    template_par_file.readline()\n",
    "                    new_par_file.write('{:.3f}\\t{:.8f}\\t1.0\\n'.format(pixel_list[j], cake_spectrum[j][cake_number]))\n",
    "                cake_number += 1\n",
    "\n",
    "            # write the rest of the file\n",
    "            else:\n",
    "                new_par_file.write(line)\n",
    "\n",
    "            line = template_par_file.readline()\n",
    "            \n",
    "    print(f\"Written .par analysis file to: '{output_par_path}'.\")"
   ]
  },
  {
   "cell_type": "code",
   "execution_count": null,
   "metadata": {},
   "outputs": [],
   "source": [
    "def create_data_pars(config_path: str, image_numbers: List[int], test_number: int, pixel_size: float, \n",
    "                     detector_distance: float, start_angle: int, previous_esg_filename: str):\n",
    "    \"\"\"This function iterates through a set of data files in '.dat' format and outputs them in '.par' analysis \n",
    "    file format for analysis using MAUD.\n",
    "    \"\"\"\n",
    "    # loop through the data using the image number of the files\n",
    "    for image_number in tqdm(image_numbers):\n",
    "\n",
    "        # caked synchrotron data from DAWN and MAUD template .par file to swap the data into\n",
    "        input_path, output_esg_path, output_par_path, template_par_path = get_paths(config_path, test_number, image_number)\n",
    "        \n",
    "        dat_to_par(input_path, pixel_size, detector_distance, start_angle, output_par_path, template_par_path,\n",
    "                  previous_esg_filename, test_number, image_number)\n",
    "\n",
    "    print(f\"Written {int((end + 1 - start) / step)} .par analysis files to: '{output_par_path}'.\")"
   ]
  },
  {
   "cell_type": "code",
   "execution_count": null,
   "metadata": {},
   "outputs": [],
   "source": [
    "# name of the data (.esg files) to be replaced in the MAUD template_******.par file\n",
    "previous_esg_filename = config[\"user_inputs\"][\"previous_esg_filename\"].format(test_number=config[\"user_inputs\"][\"test_number\"])\n",
    "\n",
    "print(\"To find the data to swop in the template file the script will search for the filename:\", previous_esg_filename)\n",
    "\n",
    "# Do the .par file conversion\n",
    "create_data_pars(config_path, image_numbers, test_number, pixel_size, detector_distance, start_angle, previous_esg_filename)"
   ]
  },
  {
   "cell_type": "markdown",
   "metadata": {},
   "source": [
    "## 4.1 Write an instruction file for the batch mode for Mac OS"
   ]
  },
  {
   "cell_type": "markdown",
   "metadata": {},
   "source": [
    "To run the analysis in batch mode, an instruction file is required to tell MAUD exactly what analysis to do. This section writes the .ins file.\n",
    "\n",
    "The number 13 corresponds to the refinement analysis in MAUD (texture mode). The number of iterations sets how many times to run the refinement on each sample.\n",
    "\n",
    "**In Mac OS, we require relative file paths written into the instruction .ins file.**\n",
    "\n",
    "*Note, in multi-phase spectra only one phase can be refined at a time. In dual-phase Ti alloys, the alpha-phase is refined first, followed by the beta. *"
   ]
  },
  {
   "cell_type": "markdown",
   "metadata": {},
   "source": [
    "The script to write the instruction file is different for the Diamond 2017 and Diamond 2021 analysis, due to the different file paths contained within the instruction file."
   ]
  },
  {
   "cell_type": "code",
   "execution_count": null,
   "metadata": {},
   "outputs": [],
   "source": [
    "def create_ins_file_mac_2017(output_ins: str, image_numbers: List[int], test_number: int, \n",
    "                             phase: str, number_of_iterations: int):\n",
    "    \"\"\"This function creates a '.ins' instruction file for running MAUD in batch mode.\n",
    "    \"\"\"\n",
    "    # name of instruction file\n",
    "    output_batch_path = pathlib.Path(output_ins)\n",
    "    \n",
    "    with output_batch_path.open(mode='w') as output_batch_file:\n",
    "\n",
    "        output_batch_file.write('loop_\\n'\n",
    "        '    _riet_analysis_file\\n'\n",
    "        '    _riet_analysis_iteration_number\\n'\n",
    "        '    _riet_analysis_wizard_index\\n'\n",
    "        '    _riet_analysis_fileToSave\\n'\n",
    "        '    _riet_append_simple_result_to\\n\\n')\n",
    "        # note, _riet_meas_datafile_name\\n removed from above for swapping the data files.\n",
    "        # note, _riet_append_result_to\\n removed as this only prints out Rwp value.\n",
    "\n",
    "        if phase == 'alpha':\n",
    "            for image_number in image_numbers:\n",
    "                output_batch_file.write(f\"'/analysis/diamond_2017/{test_number:03d}_15deg/{test_number:03d}_{image_number:05d}.par'\"\n",
    "                f\" {number_of_iterations} 13 \"\n",
    "                f\"'/analysis/diamond_2017/{test_number:03d}_15deg/{test_number:03d}_{image_number:05d}_{phase}_{number_of_iterations}iter.par' \"\n",
    "                f\"'/analysis/diamond_2017/{test_number:03d}_15deg/results/batch_results_{test_number:03d}_{phase}_{number_of_iterations}iter.txt\\'\\n\")\n",
    "\n",
    "        elif phase == 'beta':        \n",
    "            for image_number in image_numbers:\n",
    "                output_batch_file.write(f\"'/analysis/diamond_2017/{test_number:03d}_15deg/{test_number:03d}_{image_number:05d}_{phase}.par'\"\n",
    "                f\" {number_of_iterations} 13 \"\n",
    "                f\"'/analysis/diamond_2017/{test_number:03d}_15deg/{test_number:03d}_{image_number:05d}_{phase}_{number_of_iterations}iter.par' \"\n",
    "                f\"'/analysis/diamond_2017/{test_number:03d}_15deg/results/batch_results_{test_number:03d}_{phase}_{number_of_iterations}iter.txt\\'\\n\")\n",
    "\n",
    "    print(\".ins file written.\")"
   ]
  },
  {
   "cell_type": "code",
   "execution_count": null,
   "metadata": {},
   "outputs": [],
   "source": [
    "test_number = config[\"user_inputs\"][\"test_number\"]\n",
    "print(\"The test number is: \", test_number)\n",
    "\n",
    "number_of_iterations = config[\"user_inputs\"][\"number_of_iterations\"]\n",
    "print(\"The number of refinement iterations is: \", number_of_iterations)\n",
    "\n",
    "# which phase is being refined?\n",
    "phase = config[\"user_inputs\"][\"phase1\"]\n",
    "print(\"The phase is: \", phase)\n",
    "\n",
    "# number and spacing of files\n",
    "image_numbers = get_image_numbers(start, end, step)\n",
    "\n",
    "output_ins = config[\"file_paths\"][\"output_mac_ins\"].format(test_number=test_number, phase=phase, number_of_iterations=number_of_iterations)\n",
    "print(\"The output path of the instruction file is: \", output_ins)\n",
    "\n",
    "create_ins_file_mac_2017(output_ins, image_numbers, test_number, phase, number_of_iterations)"
   ]
  },
  {
   "cell_type": "markdown",
   "metadata": {},
   "source": [
    "For the Diamond 2021 analysis, the list of image numbers is slightly different because some of the images needed to be excluded from the batch mode analysis. This is because the diffraction images were recorded after the beam had moved past the edge of the sample."
   ]
  },
  {
   "cell_type": "code",
   "execution_count": null,
   "metadata": {},
   "outputs": [],
   "source": [
    "def create_ins_file_mac_2021(output_ins: str, image_numbers: List[int], test_number: int, \n",
    "                             phase: str, number_of_iterations: int):\n",
    "    \"\"\"This function creates a '.ins' instruction file for running MAUD in batch mode.\n",
    "    \"\"\"\n",
    "    # name of instruction file\n",
    "    output_batch_path = pathlib.Path(output_ins)\n",
    "    \n",
    "    with output_batch_path.open(mode='w') as output_batch_file:\n",
    "\n",
    "        output_batch_file.write('loop_\\n'\n",
    "        '    _riet_analysis_file\\n'\n",
    "        '    _riet_analysis_iteration_number\\n'\n",
    "        '    _riet_analysis_wizard_index\\n'\n",
    "        '    _riet_analysis_fileToSave\\n'\n",
    "        '    _riet_append_simple_result_to\\n\\n')\n",
    "        # note, _riet_meas_datafile_name\\n removed from above for swapping the data files.\n",
    "        # note, _riet_append_result_to\\n removed as this only prints out Rwp value.\n",
    "\n",
    "        if phase == 'alpha':\n",
    "            for image_number in image_numbers:\n",
    "                output_batch_file.write(f\"'/analysis/diamond_2021/{test_number:06d}-stage-scan/15deg/{test_number:06d}_{image_number:05d}.par'\"\n",
    "                f\" {number_of_iterations} 13 \"\n",
    "                f\"'/analysis/diamond_2021/{test_number:06d}-stage-scan/15deg/{test_number:06d}_{image_number:05d}_{phase}_{number_of_iterations}iter.par' \"\n",
    "                f\"'/analysis/diamond_2021/{test_number:06d}-stage-scan/15deg/results/batch_results_{test_number:06d}_{phase}_{number_of_iterations}iter.txt\\'\\n\")\n",
    "\n",
    "        elif phase == 'beta':        \n",
    "            for image_number in image_numbers:\n",
    "                output_batch_file.write(f\"'/analysis/diamond_2021/{test_number:06d}-stage-scan/15deg/{test_number:06d}_{image_number:05d}_{phase}.par'\"\n",
    "                f\" {number_of_iterations} 13 \"\n",
    "                f\"'/analysis/diamond_2021/{test_number:06d}-stage-scan/15deg/{test_number:06d}_{image_number:05d}_{phase}_{number_of_iterations}iter.par' \"\n",
    "                f\"'/analysis/diamond_2021/{test_number:06d}-stage-scan/15deg/results/batch_results_{test_number:06d}_{phase}_{number_of_iterations}iter.txt\\'\\n\")\n",
    "\n",
    "    print(\".ins file written.\")"
   ]
  },
  {
   "cell_type": "code",
   "execution_count": null,
   "metadata": {},
   "outputs": [],
   "source": [
    "test_number = config[\"user_inputs\"][\"test_number\"]\n",
    "print(\"The test number is: \", test_number)\n",
    "\n",
    "number_of_iterations = config[\"user_inputs\"][\"number_of_iterations\"]\n",
    "print(\"The number of refinement iterations is: \", number_of_iterations)\n",
    "\n",
    "# which phase is being refined?\n",
    "phase = config[\"user_inputs\"][\"phase1\"]\n",
    "print(\"The phase is: \", phase)\n",
    "\n",
    "# number and spacing of files\n",
    "image_numbers = np.r_[2:42+1, 45:85+1, 88:128+1, 131:171+1, 174:214+1, 217:257+1, 260:300+1, 303:343+1, 346:386+1]\n",
    "\n",
    "output_ins = config[\"file_paths\"][\"output_mac_ins\"].format(test_number=test_number, phase=phase, number_of_iterations=number_of_iterations)\n",
    "print(\"The output path of the instruction file is: \", output_ins)\n",
    "\n",
    "create_ins_file_mac_2021(output_ins, image_numbers, test_number, phase, number_of_iterations)"
   ]
  },
  {
   "cell_type": "markdown",
   "metadata": {
    "heading_collapsed": true
   },
   "source": [
    "## 4.2 Write an instruction file for the batch mode for Windows OS [TODO]"
   ]
  },
  {
   "cell_type": "markdown",
   "metadata": {
    "hidden": true
   },
   "source": [
    "To run the analysis in batch mode, an instruction file is required to tell MAUD exactly what analysis to do. This section writes the .ins file.\n",
    "\n",
    "The number 13 corresponds to the refinement analysis in MAUD (texture mode). The number of iterations sets how many times to run the refinement on each sample.\n",
    "\n",
    "**In Windows OS, we require an absolute file path for the analysis file in the instruction .ins file.**\n",
    "\n",
    "*Note, in multi-phase spectra only one phase can be refined at a time. In dual-phase Ti alloys, the alpha-phase is refined first, followed by the beta. *"
   ]
  },
  {
   "cell_type": "code",
   "execution_count": null,
   "metadata": {
    "hidden": true
   },
   "outputs": [],
   "source": [
    "def create_ins_file_windows(start: int, end: int, step: int, test_number: int, phase: str, number_of_iterations: int, \n",
    "                            file_path: str):\n",
    "    \"\"\"This function creates a '.ins' instruction file for running MAUD in batch mode.\n",
    "    \"\"\"\n",
    "    # name of instruction file\n",
    "    output_batch_path = pathlib.Path(f\"../MAUD_batch_WinOS_{test_number:03d}_{phase}_{number_of_iterations}iter.ins\")\n",
    "\n",
    "    with output_batch_path.open(mode='w') as output_batch_file:\n",
    "\n",
    "        output_batch_file.write('loop_\\n'\n",
    "        '    _riet_analysis_file\\n'\n",
    "        '    _riet_analysis_iteration_number\\n'\n",
    "        '    _riet_analysis_wizard_index\\n'\n",
    "        '    _riet_analysis_fileToSave\\n'\n",
    "        '    _riet_append_simple_result_to\\n\\n')\n",
    "        # note, _riet_meas_datafile_name\\n removed from above for swapping the data files.\n",
    "        # note, _riet_append_result_to\\n removed as this only prints out Rwp value.\n",
    "\n",
    "        if phase == 'alpha':\n",
    "            for image_number in range (start, end + 1, step):\n",
    "                output_batch_file.write(f\"'{file_path}/analysis/{test_number:03d}/MAUD_{test_number:03d}_{image_number:05d}.par' \"\n",
    "                f\"{number_of_iterations} 13 'MAUD_{test_number:03d}_{image_number:05d}_{phase}_{number_of_iterations}iter.par' \"\n",
    "                f\"'batch_results_{test_number:03d}_{phase}_{number_of_iterations}iter.txt\\'\\n\")\n",
    "\n",
    "        elif phase == 'beta':        \n",
    "            for image_number in range (start, end + 1, step):\n",
    "                output_batch_file.write(f\"'{file_path}/analysis/{test_number:03d}/MAUD_{test_number:03d}_{image_number:05d}_{phase}.par' \"\n",
    "                f\"{number_of_iterations} 13 'MAUD_{test_number:03d}_{image_number:05d}_{phase}_{number_of_iterations}iter.par' \"\n",
    "                f\"'batch_results_{test_number:03d}_{phase}_{number_of_iterations}iter.txt\\'\\n\")\n",
    "\n",
    "    print(\".ins file written.\")"
   ]
  },
  {
   "cell_type": "code",
   "execution_count": null,
   "metadata": {
    "hidden": true
   },
   "outputs": [],
   "source": [
    "# test number\n",
    "test_number = 65\n",
    "\n",
    "# number of refinement iterations\n",
    "number_of_iterations = 20\n",
    "\n",
    "# which phase is being refined?\n",
    "phase = 'alpha'\n",
    "\n",
    "# number and spacing of files\n",
    "start = 0\n",
    "end = 10\n",
    "\n",
    "step = 1\n",
    "\n",
    "# what is the file path to the MAUD-batch-analysis folder?\n",
    "file_path = 'D:/Chris Daniel/MAUD-batch-analysis' # forward or back slashes are fine for the file path as MAUD reads in both\n",
    "\n",
    "create_ins_file_windows(start, end, step, test_number, phase, number_of_iterations, file_path)"
   ]
  },
  {
   "cell_type": "markdown",
   "metadata": {},
   "source": [
    "## 5.1 Running MAUD batch mode on Mac OS"
   ]
  },
  {
   "cell_type": "markdown",
   "metadata": {},
   "source": [
    "Leave the instruction .ins file and a folder for the analysis (containing the newly created .par analysis files) in the same location as it was created from in this notebook, such as; \n",
    "\n",
    "\n",
    "**/Users/mbcx9cd4/Documents/GitHub/MAUD-batch-analysis/**\n",
    "\n",
    "\n",
    "_Note, be careful with using a dropbox folder such as /Users/mbcx9cd4/Dropbox\\ \\(Research\\ Group\\)/Lightform\\ Postdoc/MAUD_\n",
    "\n",
    "\n",
    "In the terminal navigate to the hidden files within the maud.app using the command; \n",
    "\n",
    "\n",
    "**cd /Applications/Maud.app/Contents/Resources/Java**\n",
    "\n",
    "\n",
    "_Note, you can view these files by right clicking on show package contents._\n",
    "\n",
    "\n",
    "Then, run the command to start the batch mode;\n",
    "\n",
    "\n",
    "**java -mx2048M -cp Maud.jar:miscLib.jar:jgaec.jar:ij.jar com.radiographema.MaudText -f /Users/mbcx9cd4/Documents/GitHub/MAUD-batch-analysis/MAUD_batch_MacOS_103845_alpha_5iter.ins**\n",
    "\n",
    "\n",
    "- -mx2048M sets the memory to be used i.e. 512, 1024, 2048, etc.\n",
    "- Maud.jar:miscLib.jar:jgaec.jar:ij.jar is a class path to the jar files.\n",
    "- An absolute path to the instruction file must be given. MAUD reads in both forward or back slashes for the file path.\n",
    "\n",
    "\n",
    "The analysis should run automatically. However, sometimes, an *error* appears and the batch mode is cancelled. If this happens, run a command which looks for a file that doesn't exist. A pop-up window will then appear, navigate to the .ins instruction file and click open. \n",
    "\n",
    "\n",
    "The batch mode will then run, showing the refinements in the terminal and outputting the refined analysis files and a result text file.\n",
    "\n",
    "*Note, this was tested with MAUD Version 2.78 on Mac OS Catalina Version 10.15.5* "
   ]
  },
  {
   "cell_type": "markdown",
   "metadata": {},
   "source": [
    "## 5.2 Running MAUD batch mode on Windows OS [TODO]"
   ]
  },
  {
   "cell_type": "markdown",
   "metadata": {},
   "source": [
    "Leave the instruction .ins file and a folder for the analysis (containing the newly created .par analysis files) in the smae location it was created from in this notebook, such as; \n",
    "\n",
    "\n",
    "**D:/Chris Daniel/MAUD-batch-analysis/**\n",
    "\n",
    "\n",
    "_Note, be careful with using a dropbox folder such as /Users/mbcx9cd4/Dropbox\\ \\(Research\\ Group\\)/Lightform\\ Postdoc/MAUD_\n",
    "\n",
    "\n",
    "Navigate to the MAUD package, for example; \n",
    "\n",
    "\n",
    "**D:/Chris Daniel/Maud**\n",
    "\n",
    "\n",
    "And place the following `maud_batch.bat` file here.\n",
    "\n",
    "\n",
    "This contains the command to start the batch mode;\n",
    "\n",
    "\n",
    "**jdk\\bin\\java -mx8192M -classpath lib/Maud.jar;lib/ij.jar;lib/jgap.jar;lib/Help.jar;lib/EsquiClient.jar;lib/com.github.tschoonj.xraylib.jar;lib/joone-engine.jar;lib/newt.all.jar;lib/jdic.jar;lib/jdom.jar;lib/sqlite-jdbc.jar;lib/jmol.jar;lib/jgaec.jar;lib$ar;lib/Files.jar;lib/xgridlib.jar;lib/xgridagent.jar;lib/jogl.all.jar;lib/Examples.jar;lib/commons-math.jar;lib/rome.jar;lib/nativewindow.all.jar;lib/Images.jar;lib/swingx.jar;lib/jdic_stub.jar;lib/MySQL-ConnectorJ.jar;lib/HTTPClient.jar;lib/miscLib.jar;lib/gluegen-rt.jar com.radiographema.MaudText -file \"D:\\Chris Daniel\\MAUD-batch-analysis\\MAUD_batch_WinOS_065_alpha_20iter.ins\"**\n",
    "\n",
    "\n",
    "- -mx2048M sets the memory to be used i.e. 512, 1024, 2048, etc.\n",
    "- lib/Maud.jar;lib/ij.jar... is a class path to the jar files.\n",
    "- An absolute path to the instruction file must be given. MAUD reads in both forward or back slashes for the file path.\n",
    "\n",
    "\n",
    "The analysis should run automatically. However, sometimes, an *error* appears and the batch mode is cancelled. If this happens on Windows OS, it is not possible to run a command which looks for a file that doesn't exist, since the pop-up window does *not* appear as it does on Mac OS (I'm not sure why). \n",
    "\n",
    "\n",
    "The batch mode will then run, showing the refinements in the terminal and outputting the refined analysis files and a result text file.\n",
    "\n",
    "\n",
    "*Note, this was tested with MAUD Version 2.94 on Windows 7* "
   ]
  },
  {
   "cell_type": "code",
   "execution_count": null,
   "metadata": {},
   "outputs": [],
   "source": [
    "def create_maud_batch(test_number: int, phase: str, number_of_iterations: int, file_path: str):\n",
    "    \"\"\"This function creates a 'maud_batch.bat' batch file to start MAUD in batch mode.\n",
    "    \"\"\"\n",
    "    # name of instruction file\n",
    "    output_batch_path = pathlib.Path(f\"../analysis/batch_files/maud_batch_{test_number:03d}_{phase}_{number_of_iterations}iter.bat\")\n",
    "\n",
    "    with output_batch_path.open(mode='w') as output_batch_file:\n",
    "\n",
    "        output_batch_file.write(f\"jdk\\\\bin\\\\java -mx8192M -classpath lib/Maud.jar;lib/ij.jar;lib/jgap.jar;lib/Help.jar;lib/EsquiClient.jar;lib/com.github.tschoonj.xraylib.jar;lib/joone-engine.jar;lib/newt.all.jar;lib/jdic.jar;lib/jdom.jar;lib/sqlite-jdbc.jar;lib/jmol.jar;lib/jgaec.jar;lib$ar;lib/Files.jar;lib/xgridlib.jar;lib/xgridagent.jar;lib/jogl.all.jar;lib/Examples.jar;lib/commons-math.jar;lib/rome.jar;lib/nativewindow.all.jar;lib/Images.jar;lib/swingx.jar;lib/jdic_stub.jar;lib/MySQL-ConnectorJ.jar;lib/HTTPClient.jar;lib/miscLib.jar;lib/gluegen-rt.jar com.radiographema.MaudText -file \"\n",
    "                                f\"\\\"{file_path}/maud_batch_WinOS_{test_number:03d}_{phase}_{number_of_iterations}iter.ins\\\"\")\n",
    "\n",
    "    print(\".bat file written to 'analysis/batch_files/' folder.\")"
   ]
  },
  {
   "cell_type": "code",
   "execution_count": null,
   "metadata": {},
   "outputs": [],
   "source": [
    "# test number\n",
    "test_number = 65\n",
    "\n",
    "# number of refinement iterations\n",
    "number_of_iterations = 10\n",
    "\n",
    "# which phase is being refined?\n",
    "phase = 'alpha'\n",
    "\n",
    "# what is the file path to the MAUD-batch-analysis folder?\n",
    "file_path = 'D:/Chris Daniel/MAUD-batch-analysis' # forward or back slashes are fine for the file path as MAUD reads in both\n",
    "\n",
    "create_maud_batch(test_number, phase, number_of_iterations, file_path)"
   ]
  },
  {
   "cell_type": "markdown",
   "metadata": {},
   "source": [
    "## 6. Output many .par analysis files to refine the $\\beta$ texture"
   ]
  },
  {
   "cell_type": "markdown",
   "metadata": {},
   "source": [
    "After refining the alpha texture it is then possible to automatically refine the beta texture using MAUD batch mode. To do this we need to turn off the ODF refinable option for the alpha phase and turn on the ODF refinable option for the beta phase."
   ]
  },
  {
   "cell_type": "code",
   "execution_count": null,
   "metadata": {},
   "outputs": [],
   "source": [
    "def create_second_phase_pars(input_format_string: str, output_format_string: str, image_numbers: List[int], \n",
    "                             test_number: int, phase1: str, phase2: str, number_of_iterations: int):\n",
    "    \"\"\"This function reads in an analysis file in '.par' format, which has been refined in MAUD to calculate the \n",
    "    phase1 (e.g. alpha) texture. The results of the previous refinement of phase1 are deleted and a refinement\n",
    "    for phase2 (e.g. beta) is turned on. The file is output in '.par' format for refinement using MAUD.\n",
    "    \"\"\"\n",
    "    for image_number in tqdm(image_numbers):\n",
    "\n",
    "        second_iteration = False\n",
    "\n",
    "        # MAUD analysis file with refined alpha texture\n",
    "        input_par_path = input_format_string.format(test_number=test_number, image_number=image_number, phase=phase1, number_of_iterations=number_of_iterations)\n",
    "        \n",
    "        # output MAUD analysis file for refining beta texture\n",
    "        output_par_path = output_format_string.format(test_number=test_number, image_number=image_number, phase=phase2, number_of_iterations=number_of_iterations)\n",
    "\n",
    "        with open(input_par_path, 'r') as template_par_file, open(output_par_path, 'w') as new_par_file:\n",
    "            line = template_par_file.readline() \n",
    "\n",
    "            while line:\n",
    "                # remove the max reflection plane indices from the previous refinement\n",
    "                if '_refln_index_h _refln_index_k _refln_index_l _refln_F_squared_meas _refln_F_squared_calc \\\n",
    "_refln_F_squared_sigma' in line and second_iteration == False:\n",
    "                    new_par_file.write(line.strip('\\n'))\n",
    "                    for i in range(0,33):\n",
    "                        line = template_par_file.readline()\n",
    "                    second_iteration = True\n",
    "\n",
    "                # remove the max reflection plane indices from the previous refinement\n",
    "                elif '_refln_index_h _refln_index_k _refln_index_l _refln_F_squared_meas _refln_F_squared_calc \\\n",
    "_refln_F_squared_sigma' in line and second_iteration == True:\n",
    "                    new_par_file.write(line.strip('\\n'))\n",
    "                    for i in range(0,12):\n",
    "                        line = template_par_file.readline()\n",
    "                    second_iteration = False\n",
    "\n",
    "                # set refinement of alpha ODF to false\n",
    "                if '_rita_odf_refinable true' in line:\n",
    "                    new_par_file.write('_rita_odf_refinable false\\n')\n",
    "\n",
    "                elif '#subordinateObject_none tex' in line:\n",
    "                    for l in range (0, 7):\n",
    "                        line = template_par_file.readline()\n",
    "                    # write metadata for the top of the file\n",
    "                    new_par_file.write('#subordinateObject_E-WIMV\\n\\n'\n",
    "                    '_pd_proc_ls_pref_orient_corr \\'E-WIMV\\'\\n\\n'\n",
    "                    '_rita_generate_symmetry none\\n'\n",
    "                    '_rita_wimv_sum_coincidence true\\n'\n",
    "                    '_rita_wimv_iteration_max 10\\n'\n",
    "                    '_rita_wimv_exponent 0.01\\n'\n",
    "                    '_rita_wimv_refl_min_int 0.001\\n'\n",
    "                    '_rita_wimv_odf_resolution 15.0\\n'\n",
    "                    '_rita_wimv_tube_projection true\\n'\n",
    "                    '_rita_wimv_store_ang_conv true\\n'\n",
    "                    '_rita_wimv_odf_coverage_% 0\\n'\n",
    "                    '_rita_odf_sharpness ?\\n'\n",
    "                    '_rita_wimv_phon_use ?\\n'\n",
    "                    '_rita_wimv_tube_weight 0.5\\n'\n",
    "                    '_rita_wimv_normalize_pole_figures false\\n'\n",
    "                    '_rita_wimv_weigths_exponent 0.5\\n'\n",
    "                    '_rita_odf_refinable true\\n'\n",
    "                    '_rita_wimv_refl_min_dspacing 0.0\\n\\n'\n",
    "                    '#custom_object_odf\\n'\n",
    "                    'loop_\\n'\n",
    "                    '_rita_wimv_odf_values\\n')\n",
    "\n",
    "                    for i in range(0, 10):\n",
    "                        for j in range(0, 10):\n",
    "                            for k in range (0, 37):\n",
    "                                new_par_file.write('1.0 ')\n",
    "                            new_par_file.write('\\n')  \n",
    "                        new_par_file.write('\\n')\n",
    "                    new_par_file.write('\\n')\n",
    "\n",
    "                    new_par_file.write('#end_custom_object_odf\\n\\n\\n'\n",
    "                    '#end_subordinateObject_E-WIMV\\n\\n\\n')\n",
    "\n",
    "                # write the rest of the file\n",
    "                else:\n",
    "                    new_par_file.write(line)\n",
    "\n",
    "                line = template_par_file.readline()\n",
    "\n",
    "    print(f\"Written {int((end + 1 - start) / step)} .par analysis files to output folder.\")"
   ]
  },
  {
   "cell_type": "code",
   "execution_count": null,
   "metadata": {},
   "outputs": [],
   "source": [
    "test_number = config[\"user_inputs\"][\"test_number\"]\n",
    "print(\"The test number is: \", test_number)\n",
    "\n",
    "number_of_iterations = config[\"user_inputs\"][\"number_of_iterations\"]\n",
    "print(\"The number of refinement iterations is: \", number_of_iterations)\n",
    "\n",
    "# which phase has previously been refined?\n",
    "phase1 = config[\"user_inputs\"][\"phase1\"]\n",
    "print(\"The phase 1 is: \", phase1)\n",
    "# which phase is being refined?\n",
    "phase2 = config[\"user_inputs\"][\"phase2\"]\n",
    "print(\"The phase 2, which is being refined, is: \", phase2)\n",
    "\n",
    "if config_path == \"yaml/config_diamond_2021.yaml\":\n",
    "    # number and spacing of files\n",
    "    image_numbers = np.r_[2:42+1, 45:85+1, 88:128+1, 131:171+1, 174:214+1, 217:257+1, 260:300+1, 303:343+1, 346:386+1]\n",
    "else:    \n",
    "    # number and spacing of files\n",
    "    image_numbers = get_image_numbers(start, end, step)\n",
    "\n",
    "input_format_string = config[\"file_paths\"][\"output_par_phase_refined\"]\n",
    "print(\"The input path of the par file is: \", input_format_string)\n",
    "output_format_string = config[\"file_paths\"][\"output_par_phase\"]\n",
    "print(\"The output path of the par file is: \", output_format_string)\n",
    "\n",
    "create_second_phase_pars(input_format_string, output_format_string, image_numbers, test_number, \n",
    "                         phase1, phase2, number_of_iterations)"
   ]
  },
  {
   "cell_type": "markdown",
   "metadata": {},
   "source": [
    "## 7.1 Write an instruction file for refining the $\\beta$ texture in batch mode for Mac OS"
   ]
  },
  {
   "cell_type": "markdown",
   "metadata": {},
   "source": [
    "We then need to write out the instruction file to run through the refinement of the new beta parameter files and to save the results of the batch analysis."
   ]
  },
  {
   "cell_type": "code",
   "execution_count": null,
   "metadata": {},
   "outputs": [],
   "source": [
    "test_number = config[\"user_inputs\"][\"test_number\"]\n",
    "print(\"The test number is: \", test_number)\n",
    "\n",
    "number_of_iterations = config[\"user_inputs\"][\"number_of_iterations\"]\n",
    "print(\"The number of refinement iterations is: \", number_of_iterations)\n",
    "\n",
    "# which phase is being refined?\n",
    "phase = config[\"user_inputs\"][\"phase2\"]\n",
    "print(\"The phase is: \", phase)\n",
    "\n",
    "if config_path == \"yaml/config_diamond_2021.yaml\":\n",
    "    # number and spacing of files\n",
    "    image_numbers = np.r_[2:42+1, 45:85+1, 88:128+1, 131:171+1, 174:214+1, 217:257+1, 260:300+1, 303:343+1, 346:386+1]\n",
    "else:    \n",
    "    # number and spacing of files\n",
    "    image_numbers = get_image_numbers(start, end, step)\n",
    "\n",
    "output_ins = config[\"file_paths\"][\"output_mac_ins\"].format(test_number=test_number, phase=phase, number_of_iterations=number_of_iterations)\n",
    "print(\"The output path of the instruction file is: \", output_ins)\n",
    "\n",
    "create_ins_file_mac_2017(output_ins, image_numbers, test_number, phase, number_of_iterations)"
   ]
  },
  {
   "cell_type": "markdown",
   "metadata": {},
   "source": [
    "## 7.2 Write an instruction and batch file for refining the $\\beta$ texture in batch mode for Windows OS [TODO]"
   ]
  },
  {
   "cell_type": "code",
   "execution_count": null,
   "metadata": {},
   "outputs": [],
   "source": [
    "# test number\n",
    "test_number = 65\n",
    "\n",
    "# number of refinement iterations\n",
    "number_of_iterations = 20\n",
    "\n",
    "# which phase is being refined?\n",
    "phase = 'beta'\n",
    "\n",
    "# what is the file path to the MAUD-batch-analysis folder?\n",
    "file_path = 'D:/Chris Daniel/MAUD-batch-analysis' # forward or back slashes are fine for the file path as MAUD reads in both\n",
    "\n",
    "create_ins_file_windows(test_number, phase, number_of_iterations, file_path)\n",
    "\n",
    "create_maud_batch(test_number, phase, number_of_iterations, file_path)"
   ]
  }
 ],
 "metadata": {
  "kernelspec": {
   "display_name": "Python 3",
   "language": "python",
   "name": "python3"
  },
  "language_info": {
   "codemirror_mode": {
    "name": "ipython",
    "version": 3
   },
   "file_extension": ".py",
   "mimetype": "text/x-python",
   "name": "python",
   "nbconvert_exporter": "python",
   "pygments_lexer": "ipython3",
   "version": "3.6.8"
  },
  "pycharm": {
   "stem_cell": {
    "cell_type": "raw",
    "metadata": {
     "collapsed": false
    },
    "source": []
   }
  }
 },
 "nbformat": 4,
 "nbformat_minor": 2
}
