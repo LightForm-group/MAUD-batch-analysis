{
 "cells": [
  {
   "cell_type": "markdown",
   "metadata": {},
   "source": [
    "This notebook contains an analysis workflow for refining textures in diffraction spectra using MAUD (http://maud.radiographema.eu/)"
   ]
  },
  {
   "cell_type": "markdown",
   "metadata": {},
   "source": [
    "## Import packages"
   ]
  },
  {
   "cell_type": "code",
   "execution_count": null,
   "metadata": {},
   "outputs": [],
   "source": [
    "import pathlib\n",
    "\n",
    "from tqdm.notebook import tqdm\n",
    "import numpy as np"
   ]
  },
  {
   "cell_type": "markdown",
   "metadata": {},
   "source": [
    "## Preparing the DAWN spectra"
   ]
  },
  {
   "cell_type": "markdown",
   "metadata": {},
   "source": [
    "In DAWN the data must be caked with the x-axis chosen as pixel number (pixels) and saved as a .dat file.\n",
    "\n",
    "It is not possible to adjust data using x-axis as the two-theta angle (degrees)."
   ]
  },
  {
   "cell_type": "markdown",
   "metadata": {},
   "source": [
    "**Notes on caking in DAWN**\n",
    "\n",
    "- Import tiffs using either .nxs file (for standard 2 Hz acquisition) or as .dat file (for faster acquisitions) into ‘data slice viewer’ within the ‘processing’ tab.\n",
    "\n",
    "- Select pilatus, image 2D, finish.\n",
    "\n",
    "- For **cake remapping** (used in MAUD for texture recalculation and for single peak profile analysis in python), in ‘processing’ window;\n",
    "    - Import detector calibration (calibration_output.nxs)\n",
    "    - Threshold mask, set lower to 0.0\n",
    "    - Cake remapping, azimuthal range 2.5, -357.5, number of azimuthal bins 72, number of bins blank, pixel splitting tick, radial range blank, X axis pixel (MAUD) or angle (SPP)\n",
    "    - Export to text file, file extension .dat, choose output directory, pad with zeros 5\n",
    "\n",
    "- For **azimuthal integration** (used in TOPAS for volume fraction), in ‘processing’ window;\n",
    "    - Import detector calibration (calibration_output.nxs)\n",
    "    - Threshold mask, set lower to 0.0\n",
    "    - Azimuthal integration, azimuthal range blank, number of bins blank, pixel splitting tick, radial range blank, X axis angle \n",
    "    - Export to text file, file extension .xy, choose output directory, pad with zeros 5\n",
    "        \n",
    "*Data can also be caked using pyFAI (https://pyfai.readthedocs.io/en/latest/#)*"
   ]
  },
  {
   "cell_type": "markdown",
   "metadata": {},
   "source": [
    "## Creating a template \".par\" file\n",
    "\n",
    "Before beginning the batch mode analysis a **template .par file** must be set up in MAUD.\n",
    "This provides MAUD with information about the beamline setup and also the data to be analysed.\n",
    "\n",
    "#### Creating and loading beamline calibration\n",
    "\n",
    "First the beamline calibration data must be loaded into MAUD\n",
    "- Calibration data for the beamline must be created using a known calibrant. An example of this is shown in the \"calibration\" folder. The \"calibration_1200mm.dat\" file is the specrum of a \"LaB6\" calibrant.\n",
    "- To be read into MAUD, the calibration data must be converted to a \".esg\" file which can be done [using the script below](#cell1)\n",
    "- Load the .esg calibration file into MAUD.\n",
    "\n",
    "\n",
    "#### Creating an instrument type\n",
    "An **'instrument type'** must then be created in MAUD:\n",
    "- Follow online videos to define the instrument (https://www.youtube.com/user/MaudRietveldProgram/videos)\n",
    "\n",
    "*Note, the .dat files have undergone calibration in DAWN, so ImageJ isn't needed to load the tiffs, which would lead to a different calibration in MAUD.*\n",
    "\n",
    "#### Load experimental data into MAUD\n",
    "\n",
    "- Create a .esg file containing experimental data from the .dat files [using the script below](#cell2).\n",
    "- Load the data .esg file in MAUD.\n",
    "- Select the new instrument type defined in the step above.\n",
    "\n",
    "#### Creating the template .par file\n",
    "\n",
    "Then, create a **template .par file** in MAUD;\n",
    "\n",
    "- Set up the refinement;\n",
    "    - Set data range ~ 2.2 to 9.9\n",
    "    - Add extra background parameter.\n",
    "    - Add alpha and beta cifs.\n",
    "    - Set Biso to 0.5\n",
    "    - Set approximate volume fraction.\n",
    "    - Manually adjust crystal paramters to fit peak positions.\n",
    "    - Auto refine background, free scale factors and cell parameters. *Note, leave beam centre fixed.*\n",
    "    - Auto refine volume fraction.\n",
    "    - Auto refine crystal size and micro-strain.\n",
    "    - Add E-WIMV texture for alpha-phase (set ODF resolution to 5 or 10 degree resolution).\n",
    "    - Fix crystal size and micro-strain and turn on texture refinement (but, don't refine).\n",
    "    - *Note, to refine beta-phase, untick ODF refineable on alpha-phase.*\n",
    "    \n",
    "- Save this as a template .par file i.e. 'template_065.par'"
   ]
  },
  {
   "cell_type": "markdown",
   "metadata": {},
   "source": [
    "## Structure of notebook and example file input and output"
   ]
  },
  {
   "cell_type": "markdown",
   "metadata": {},
   "source": [
    "**1. Write out a single .esg calibration file for MAUD.**\n",
    "   - *input: caked synchrotron data for calibration.*\n",
    "        - calibration/calibration_1200mm.dat\n",
    "   - *output: calibration .esg data file written to 'calibration' folder, named with detector distance.*\n",
    "        - calibration/calibration_1200mm.esg\n",
    "        \n",
    "        \n",
    "**2. Loop through multiple input files to output .esg data files for MAUD.**\n",
    "   - *input: caked synchrotron data for experiment.* \n",
    "        - data/adc_065_TI64_NDload_900C_15mms_ascii/adc_065_TI64_NDload_900C_15mms_00001.dat\n",
    "   - *output: experiment .esg data file written to 'calibration' folder.*\n",
    "        - analysis/065/MAUD_065_00001.esg\n",
    "        \n",
    "        \n",
    "**3. Output many .par analysis files for MAUD batch mode analysis.**\n",
    "   - *input: caked synchrotron data for experiment.* \n",
    "        - data/adc_065_TI64_NDload_900C_15mms_ascii/adc_065_TI64_NDload_900C_15mms_00001.dat\n",
    "   - *input: template MAUD .par analysis file.* \n",
    "        - data/template_par/template_065.par\n",
    "   - *output: experiment .par analysis files written to 'analysis' folder.*\n",
    "        - analysis/065/MAUD_065_00001.par\n",
    "        \n",
    "        \n",
    "** 4. Write an instruction file for the batch mode.**\n",
    "   - *output: instrution file.*\n",
    "        - MAUD_batch_065_alpha_20iter.ins\n",
    "        \n",
    "        \n",
    "**5. Running MAUD batch mode.**\n",
    "   - *input: instrution file.*\n",
    "        - MAUD_batch_065_alpha_20iter.ins\n",
    "   - *input: experiment .par analysis files.*\n",
    "        - analysis/MAUD_065_00001.par\n",
    "   - *output: .par analysis files containing refined alpha texture for each experiment.*\n",
    "        - analysis/065/MAUD_065_00001_alpha_20iter.par'    \n",
    "   - *output: text file  containing MAUD refinement results.*\n",
    "        - analysis/065/batch_results_065_alpha_20iter.txt\n",
    "        \n",
    "        \n",
    "**6. Output many .par analysis files to refine the $\\beta$ texture.**\n",
    "   - *input: .par analysis files containing refined alpha texture for each experiment.*\n",
    "        - analysis/065/MAUD_065_00001_alpha_20iter.par'\n",
    "   - *output: .par analysis files for refining beta texture.*\n",
    "        - analysis/065/MAUD_065_00001_beta.par'\n",
    "        \n",
    "   \n",
    "**7. Write an instruction file for refining the $\\beta$ texture in batch mode.**\n",
    "   - *output: instrution file.*\n",
    "        - MAUD_batch_065_beta_20iter.ins\n",
    "        \n",
    "\n",
    "**8. Running MAUD batch mode (to refine the $\\beta$ texture).**\n",
    "   - *input: instrution file.*\n",
    "        - MAUD_batch_065_beta_20iter.ins\n",
    "   - *input: experiment .par analysis files.*\n",
    "        - analysis/065/MAUD_065_00001_beta.par\n",
    "   - *output: .par analysis files containing refined beta texture for each experiment.*\n",
    "        - analysis/065/MAUD_065_00001_beta_20iter.par'    \n",
    "   - *output: text file  containing MAUD refinement results.*\n",
    "        - analysis/065/batch_results_065_beta_20iter.txt"
   ]
  },
  {
   "cell_type": "markdown",
   "metadata": {},
   "source": [
    "<a id=\"cell1\"></a>\n",
    "## 1. Write out a single .esg calibration file for MAUD"
   ]
  },
  {
   "cell_type": "code",
   "execution_count": null,
   "metadata": {},
   "outputs": [],
   "source": [
    "def dat_to_esg(input_path: str, pixel_size: float, detector_distance: float, start_angle: int, output_path: str):\n",
    "    \"\"\"This function reads in a calibration data in '.dat' format and outputs it in '.esg' format\n",
    "    for reading into MAUD.\n",
    "    \"\"\"\n",
    "    # caked synchrotron data from DAWN\n",
    "    input_data = np.loadtxt(input_file)\n",
    "\n",
    "    # read the pixel spacing from the data file and multiply by pixel size to get pixel positions in mm\n",
    "    pixel_list = input_data[:, 0] * pixel_size\n",
    "\n",
    "    cake_spectrum = input_data[:, 1:]\n",
    "    number_of_cakes = cake_spectrum.shape[1]\n",
    "    cake_width = 360 / number_of_cakes\n",
    "\n",
    "    # name and open the output MAUD data file\n",
    "    output_folder = pathlib.Path(output_path).parent\n",
    "    output_folder.mkdir(exist_ok=True)\n",
    "\n",
    "    with open(output_path, 'w') as output_file:\n",
    "\n",
    "        # write metadata for the top of the file\n",
    "        output_file.write('_pd_block_id noTitle|#0\\n'\n",
    "        '_diffrn_detector Image Plate\\n'\n",
    "        '_diffrn_detector_type Image Plate\\n'\n",
    "        '_pd_meas_step_count_time ?\\n'\n",
    "        '_diffrn_measurement_method ?\\n'\n",
    "        '_diffrn_measurement_distance_unit mm\\n'\n",
    "        '_pd_instr_dist_spec/detc {:.4f}\\n'.format(detector_distance))\n",
    "        output_file.write('_diffrn_radiation_wavelength ?\\n'\n",
    "        '_diffrn_source_target ?\\n'\n",
    "        '_diffrn_source_power ?\\n'\n",
    "        '_diffrn_source_current ?\\n'\n",
    "        '_pd_meas_angle_omega 0.0\\n'\n",
    "        '_pd_meas_angle_chi 0.0\\n'\n",
    "        '_pd_meas_angle_phi 0.0\\n'\n",
    "        '_riet_par_spec_displac_x 0\\n'\n",
    "        '_riet_par_spec_displac_y 0\\n'\n",
    "        '_riet_par_spec_displac_z 0\\n'\n",
    "        '_riet_meas_datafile_calibrated false\\n'\n",
    "        '_pd_meas_angle_eta {:.1f}\\n\\n'.format(start_angle))\n",
    "        output_file.write('loop_\\n'\n",
    "        '_pd_proc_2theta_corrected\\n'\n",
    "        '_pd_meas_intensity_total\\n')\n",
    "\n",
    "        # write the first cake intensity data\n",
    "        for i in range(len(pixel_list) - 1, -1, -1):\n",
    "            output_file.write('{:.3f}\\t{:.8f}\\n'.format(pixel_list[i], cake_spectrum[i][0]))\n",
    "\n",
    "        # write all the other cake data with additional info\n",
    "        for cake_number in range(1, number_of_cakes, 1):    \n",
    "            output_file.write('\\n_pd_block_id noTitle|#{:.0f}\\n\\n'.format(cake_number))\n",
    "            cake_angle = start_angle + cake_number * cake_width\n",
    "            output_file.write('_pd_meas_angle_eta {:.1f}\\n\\n'.format(cake_angle))\n",
    "            output_file.write('loop_\\n'\n",
    "            '_pd_proc_2theta_corrected\\n'\n",
    "            '_pd_meas_intensity_total\\n')\n",
    "\n",
    "            # write cake intensity data for each cake\n",
    "            for i in range(len(pixel_list)-1, -1, -1):\n",
    "                output_file.write('{:.3f}\\t{:.8f}\\n'.format(pixel_list[i], cake_spectrum[i][cake_number]))\n",
    "\n",
    "    print(f\"Written calibration .esg data to file: '{output_path}'.\")"
   ]
  },
  {
   "cell_type": "code",
   "execution_count": null,
   "metadata": {},
   "outputs": [],
   "source": [
    "# user inputs (in mm)\n",
    "detector_distance = 1200 # This is an approximate distance which will be refined by MAUD\n",
    "pixel_size = 0.296\n",
    "\n",
    "# specifying the angle of the first cake in the data file.\n",
    "start_angle = 0\n",
    "\n",
    "# where the .esg file is written\n",
    "input_path = \"calibration/calibration_1200mm.dat\"\n",
    "output_path = \"calibration/calibration_1200mm.esg\"\n",
    "\n",
    "dat_to_esg(input_path, pixel_size, detector_distance, start_angle, output_path)"
   ]
  },
  {
   "cell_type": "markdown",
   "metadata": {},
   "source": [
    "<a id=\"cell2\"></a>\n",
    "## 2. Loop through multiple input files to output .esg data files for MAUD"
   ]
  },
  {
   "cell_type": "markdown",
   "metadata": {},
   "source": [
    "Normally, we have many analysis files spaced in time. These are read in a loop by the `create_data_esgs` which produces one .esg data file for each input .dat file."
   ]
  },
  {
   "cell_type": "code",
   "execution_count": null,
   "metadata": {
    "scrolled": true
   },
   "outputs": [],
   "source": [
    "def create_data_esgs(start: int, end: int, step: int, dir_name: str, file_prefix: str, \n",
    "                     output_folder: str, pixel_size: float, detector_distance: float, start_angle: int):\n",
    "    # loop through the data using the image number of the files\n",
    "    for image_number in tqdm(range(start, end + 1, step)):\n",
    "\n",
    "        # caked synchrotron data from DAWN\n",
    "        input_path = dir_name + file_prefix + '_{:05d}.dat'.format(image_number)\n",
    "        output_path = f\"{output_folder}/{image_number:05d}.esg\"\n",
    "        dat_to_esg(input_path, pixel_size, detector_distance, start_angle, output_path)\n",
    "\n",
    "    print(f\"Written {int((end + 1 - start) / step)} .esg data files to '{output_folder}' folder.\")"
   ]
  },
  {
   "cell_type": "markdown",
   "metadata": {},
   "source": [
    "In this case the output files are written into a folder called 'analysis' and saved in the format MAUD_065_00001.esg where 065 is experiment number and 00001 is test number."
   ]
  },
  {
   "cell_type": "code",
   "execution_count": null,
   "metadata": {},
   "outputs": [],
   "source": [
    "# user inputs (in mm)\n",
    "detector_distance = 1194.8865 # use the MAUD calibrated detector distance\n",
    "\n",
    "# test number is put in the name of the input and output file\n",
    "test_number = 65\n",
    "\n",
    "# formatting the name of the input files\n",
    "file_prefix = f'adc_{test_number:03d}_TI64_NDload_900C_15mms'\n",
    "dir_name = 'example_data/' + file_prefix + '_ascii/'\n",
    "\n",
    "# number and spacing of files to read\n",
    "start = 0\n",
    "end = 10\n",
    "step = 1\n",
    "\n",
    "# where the .esg files are written\n",
    "output_folder = f\"analysis/{test_number:03d}\"\n",
    "\n",
    "# Do the file conversion\n",
    "create_data_esgs(start, end, step, dir_name, file_prefix, output_folder, \n",
    "                 pixel_size, detector_distance, start_angle)"
   ]
  },
  {
   "cell_type": "markdown",
   "metadata": {
    "collapsed": true
   },
   "source": [
    "## 3. Output many .par analysis files for MAUD batch mode analysis"
   ]
  },
  {
   "cell_type": "markdown",
   "metadata": {},
   "source": [
    "Write out a number of .par analysis files to be refined using MAUD batch mode. \n",
    "\n",
    "\n",
    "Use a template MAUD .par analysis file to swap the data into. This file will have been manually refined in MAUD and setup ready to refine in batch mode. It is assumed that this template MAUD par file is named in the format 'template_065.par', where 065 is the experiment number.\n",
    "\n",
    "\n",
    "The output files are written into an 'analysis' folder and saved in the format MAUD_065_00001.par where 065 is experiment number and 00001 is test number. This analysis folder will then be used in the subsequent batch mode analysis."
   ]
  },
  {
   "cell_type": "code",
   "execution_count": null,
   "metadata": {},
   "outputs": [],
   "source": [
    "# user inputs (in mm)\n",
    "pixel_size = 0.296\n",
    "\n",
    "# test number is put in the name of the input and output file\n",
    "test_number = 65\n",
    "\n",
    "# formatting the name of the input files\n",
    "file_prefix = 'adc_{:03d}_TI64_NDload_900C_15mms'.format(test_number)\n",
    "dir_name = 'data/' + file_prefix + '_ascii/'\n",
    "\n",
    "# number and spacing of files to read\n",
    "start = 0\n",
    "end = 10\n",
    "step = 1\n",
    "\n",
    "# where the .esg files are written\n",
    "output_folder = pathlib.Path(f\"analysis/{test_number:03d}\")\n",
    "\n",
    "# path to the template_***.par file\n",
    "par_dir_name = 'data/template_par/'\n",
    "\n",
    "# name of the data (.esg files) to be replaced in the MAUD template_***.par file\n",
    "previous_esg_filename = 'MAUD_{:03d}_00000'.format(test_number)\n",
    "\n",
    "# MAUD file to swap the data into\n",
    "template_par = par_dir_name + 'template_{:03d}.par'.format(test_number)"
   ]
  },
  {
   "cell_type": "code",
   "execution_count": null,
   "metadata": {
    "scrolled": true
   },
   "outputs": [],
   "source": [
    "for image_number in tqdm(range(start, end + 1, step)):\n",
    "    \n",
    "    # caked synchrotron data from DAWN\n",
    "    input_file = dir_name + file_prefix + '_{:05d}.dat'.format(image_number)\n",
    "    input_data = np.loadtxt(input_file)\n",
    "    # read the pixel spacing from the data file and multiply by pixel size to get pixel positions in mm\n",
    "    pixel_list = input_data[:, 0] * pixel_size\n",
    "    \n",
    "    cake_spectrum = input_data[:, 1:]\n",
    "    number_of_cakes = cake_spectrum.shape[1]\n",
    "    cake_width = 360 / number_of_cakes\n",
    "   \n",
    "    # output MAUD analysis file\n",
    "    output_par_path = output_folder / pathlib.Path(f'MAUD_{test_number:03d}_{image_number:05d}.par')\n",
    "    \n",
    "    with open(template_par, 'r') as template_par_file, open(output_par_path, 'w') as new_par_file:\n",
    "        cake_number = 0\n",
    "        line = template_par_file.readline() \n",
    "            \n",
    "        while line:\n",
    "            # rename the datafiles in the .par file\n",
    "            if previous_esg_filename in line:\n",
    "                new_esg_filename = 'MAUD_{:03d}_{:05d}'.format(test_number, image_number)\n",
    "                new_line = line.replace(previous_esg_filename, new_esg_filename)\n",
    "                new_par_file.write(new_line)\n",
    "                \n",
    "            # replace the data when this line is found\n",
    "            elif '_pd_meas_position _pd_meas_intensity_total _pd_meas_intensity_sigma' in line:\n",
    "                new_par_file.write(line)\n",
    "                \n",
    "                # write the new data in place\n",
    "                for j in range(len(pixel_list)-1, -1, -1):\n",
    "                    template_par_file.readline()\n",
    "                    new_par_file.write('{:.3f}\\t{:.8f}\\t1.0\\n'.format(pixel_list[j], cake_spectrum[j][cake_number]))\n",
    "                cake_number += 1\n",
    "            \n",
    "            # write the rest of the file\n",
    "            else:\n",
    "                new_par_file.write(line)\n",
    "            \n",
    "            line = template_par_file.readline()\n",
    "            \n",
    "print(f\"Written {int((end + 1 - start) / step)} .par analysis files to '{output_folder}' folder.\")"
   ]
  },
  {
   "cell_type": "markdown",
   "metadata": {},
   "source": [
    "## 4. Write an instruction file for the batch mode"
   ]
  },
  {
   "cell_type": "markdown",
   "metadata": {},
   "source": [
    "To run the analysis in batch mode, an instruction file is required to tell MAUD exactly what analysis to do. This section writes the .ins file.\n",
    "\n",
    "The number 13 corresponds to the refinement analysis in MAUD (texture mode). The number of iterations sets how many times to run the refinement on each sample.\n",
    "\n",
    "*Note, in multi-phase spectra only one phase can be refined at a time. In dual-phase Ti alloys, the alpha-phase is refined first, followed by the beta. *"
   ]
  },
  {
   "cell_type": "code",
   "execution_count": null,
   "metadata": {},
   "outputs": [],
   "source": [
    "# test number\n",
    "test_number = 65\n",
    "\n",
    "# number of refinement iterations\n",
    "number_of_iterations = 20\n",
    "\n",
    "# which phase is being refined?\n",
    "phase = 'alpha'"
   ]
  },
  {
   "cell_type": "code",
   "execution_count": null,
   "metadata": {},
   "outputs": [],
   "source": [
    "# name of instruction file\n",
    "batch_path = pathlib.Path(f\"MAUD_batch_{test_number:03d}_{phase}_{number_of_iterations}iter.ins\")\n",
    "\n",
    "with batch_path.open(mode='w') as output_file:\n",
    "\n",
    "    output_file.write(\"loop_\\n\\\n",
    "    _riet_analysis_file\\n\\\n",
    "    _riet_analysis_iteration_number\\n\\\n",
    "    _riet_analysis_wizard_index\\n\\\n",
    "    _riet_analysis_fileToSave\\n\\\n",
    "    _riet_append_simple_result_to\\n\\n\")\n",
    "    # note, _riet_meas_datafile_name\\n removed from above for swapping the data files.\n",
    "    # note, _riet_append_result_to\\n removed as this only prints out Rwp value.\n",
    "\n",
    "    for image_number in range (start, end + 1, step):\n",
    "        output_file.write(f\"'/analysis/{test_number:03d}/MAUD_{test_number:03d}_{image_number:05d}.par' \"\n",
    "        f\"{number_of_iterations} 13 '/analysis/{test_number:03d}/MAUD_{test_number:03d}_\"\n",
    "        f\"{image_number:05d}_{phase}_{number_of_iterations}iter.par' \"\n",
    "        f\"'/analysis/{test_number:03d}/batch_results_{test_number:03d}_{phase}_{number_of_iterations}iter.txt\\'\\n\")\n",
    "print(\".ins file written.\")"
   ]
  },
  {
   "cell_type": "markdown",
   "metadata": {},
   "source": [
    "## 5. Running MAUD batch mode"
   ]
  },
  {
   "cell_type": "markdown",
   "metadata": {},
   "source": [
    "Leave the instruction .ins file and a folder for the analysis (containing the newly created .par analysis files) in a sensible location, such as; \n",
    "\n",
    "\n",
    "**/Users/mbcx9cd4/Documents/GitHub/MAUD-batch-analysis/**\n",
    "\n",
    "\n",
    "_Note, be careful with using a dropbox folder such as /Users/mbcx9cd4/Dropbox\\ \\(Research\\ Group\\)/Lightform\\ Postdoc/MAUD_\n",
    "\n",
    "\n",
    "In the terminal navigate to the hidden files within the maud.app using the command; \n",
    "\n",
    "\n",
    "**cd /Applications/Maud.app/Contents/Resources/Java**\n",
    "\n",
    "\n",
    "_Note, you can view these files by right clicking on show package contents._\n",
    "\n",
    "\n",
    "Then, run the command to start the batch mode;\n",
    "\n",
    "\n",
    "**java -mx2048M -cp Maud.jar:miscLib.jar:jgaec.jar:ij.jar com.radiographema.MaudText -f /Users/mbcx9cd4/Documents/GitHub/MAUD-batch-analysis/MAUD_batch_065_alpha_20iter.ins**\n",
    "\n",
    "\n",
    "- -mx2048M sets the memory to be used i.e. 512, 1024, 2048, etc.\n",
    "- Maud.jar:miscLib.jar:jgaec.jar:ij.jar is a class path to the jar files.\n",
    "- An absolute path to the instruction file must be given.\n",
    "\n",
    "\n",
    "The analysis should run automatically. However, sometimes, an *error* appears and the batch mode is cancelled. If this happens, run a command which looks for a file that doesn't exist. A pop-up window will then appear, navigate to the .ins instruction file and click open. \n",
    "\n",
    "\n",
    "The batch mode will then run, showing the refinements in the terminal and outputting the refined analysis files and a result text file."
   ]
  },
  {
   "cell_type": "markdown",
   "metadata": {},
   "source": [
    "## 6. Output many .par analysis files to refine the $\\beta$ texture"
   ]
  },
  {
   "cell_type": "code",
   "execution_count": null,
   "metadata": {},
   "outputs": [],
   "source": [
    "# test number is put in the name of the input and output file\n",
    "test_number = 65\n",
    "\n",
    "# previous information for the input file\n",
    "number_of_iterations = 20\n",
    "phase1 = 'alpha'\n",
    "\n",
    "# number and spacing of files to read\n",
    "start = 0\n",
    "end = 10\n",
    "step = 1\n",
    "\n",
    "# where the .esg files are written\n",
    "output_folder = pathlib.Path(f\"analysis/{test_number:03d}\")\n",
    "\n",
    "# which phase is being refined?\n",
    "phase2 = 'beta'"
   ]
  },
  {
   "cell_type": "code",
   "execution_count": null,
   "metadata": {},
   "outputs": [],
   "source": [
    "for image_number in tqdm(range(start, end + 1, step)):\n",
    "\n",
    "    second_iteration = False\n",
    "    \n",
    "    # MAUD analysis file with refined alpha texture\n",
    "    input_par_path = f'analysis/{test_number:03d}/MAUD_{test_number:03d}_{image_number:05d}_{phase1}_{number_of_iterations:02d}iter.par'\n",
    "   \n",
    "    # output MAUD analysis file for refining beta texture\n",
    "    output_par_path = output_folder / pathlib.Path(f'MAUD_{test_number:03d}_{image_number:05d}_{phase2}.par')\n",
    "    \n",
    "    with open(input_par_path, 'r') as template_par_file, open(output_par_path, 'w') as new_par_file:\n",
    "        line = template_par_file.readline() \n",
    "            \n",
    "        while line:\n",
    "            # remove the max reflection plane indices from the previous refinement\n",
    "            if '_refln_index_h _refln_index_k _refln_index_l _refln_F_squared_meas _refln_F_squared_calc \\\n",
    "_refln_F_squared_sigma' in line and second_iteration == False:\n",
    "                new_par_file.write(line.strip('\\n'))\n",
    "                for i in range(0,22):\n",
    "                    line = template_par_file.readline()\n",
    "                second_iteration = True\n",
    "             \n",
    "            # remove the max reflection plane indices from the previous refinement\n",
    "            elif '_refln_index_h _refln_index_k _refln_index_l _refln_F_squared_meas _refln_F_squared_calc \\\n",
    "_refln_F_squared_sigma' in line and second_iteration == True:\n",
    "                new_par_file.write(line.strip('\\n'))\n",
    "                for i in range(0,7):\n",
    "                    line = template_par_file.readline()\n",
    "                second_iteration = False\n",
    "                \n",
    "            # set refinement of alpha ODF to false\n",
    "            elif '_rita_odf_refinable true' in line:\n",
    "                new_par_file.write('_rita_odf_refinable false\\n')\n",
    "                \n",
    "            elif '#subordinateObject_none tex' in line:\n",
    "                for l in range (0, 7):\n",
    "                    line = template_par_file.readline()\n",
    "                # write metadata for the top of the file\n",
    "                new_par_file.write('#subordinateObject_E-WIMV\\n\\n'\n",
    "                '_pd_proc_ls_pref_orient_corr \\'E-WIMV\\'\\n\\n'\n",
    "                '_rita_generate_symmetry none\\n'\n",
    "                '_rita_wimv_sum_coincidence true\\n'\n",
    "                '_rita_wimv_iteration_max 10\\n'\n",
    "                '_rita_wimv_exponent 0.01\\n'\n",
    "                '_rita_wimv_refl_min_int 0.001\\n'\n",
    "                '_rita_wimv_odf_resolution 10\\n'\n",
    "                '_rita_wimv_tube_projection true\\n'\n",
    "                '_rita_wimv_store_ang_conv true\\n'\n",
    "                '_rita_wimv_odf_coverage_% 0\\n'\n",
    "                '_rita_odf_sharpness ?\\n'\n",
    "                '_rita_wimv_phon_use ?\\n'\n",
    "                '_rita_wimv_tube_weight 0.5\\n'\n",
    "                '_rita_wimv_normalize_pole_figures true\\n'\n",
    "                '_rita_wimv_weigths_exponent 0.5\\n'\n",
    "                '_rita_odf_refinable true\\n'\n",
    "                '_rita_wimv_refl_min_dspacing 0.0\\n\\n'\n",
    "                '#custom_object_odf\\n'\n",
    "                'loop_\\n'\n",
    "                '_rita_wimv_odf_values\\n')\n",
    "\n",
    "                for i in range(0, 10):\n",
    "                    for j in range(0, 10):\n",
    "                        for k in range (0, 37):\n",
    "                            new_par_file.write('1.0 ')\n",
    "                        new_par_file.write('\\n')  \n",
    "                    new_par_file.write('\\n')\n",
    "                new_par_file.write('\\n')\n",
    "                \n",
    "                new_par_file.write('#end_custom_object_odf\\n\\n\\n'\n",
    "                '#end_subordinateObject_E-WIMV\\n\\n\\n')\n",
    "            \n",
    "            # write the rest of the file\n",
    "            else:\n",
    "                new_par_file.write(line)\n",
    "            \n",
    "            line = template_par_file.readline()\n",
    "            \n",
    "print(f\"Written {int((end + 1 - start) / step)} .par analysis files to '{output_folder}' folder.\")"
   ]
  },
  {
   "cell_type": "markdown",
   "metadata": {},
   "source": [
    "## 7. Write an instruction file for refining the $\\beta$ texture in batch mode"
   ]
  },
  {
   "cell_type": "code",
   "execution_count": null,
   "metadata": {},
   "outputs": [],
   "source": [
    "# user inputs\n",
    "\n",
    "# test number\n",
    "test_number = 65\n",
    "\n",
    "# number of refinement iterations\n",
    "number_of_iterations = 20\n",
    "\n",
    "# which phase is being refined?\n",
    "phase = 'beta'"
   ]
  },
  {
   "cell_type": "code",
   "execution_count": null,
   "metadata": {},
   "outputs": [],
   "source": [
    "# name of instruction file\n",
    "batch_path = pathlib.Path(f\"MAUD_batch_{test_number:03d}_{phase}_{number_of_iterations}iter.ins\")\n",
    "\n",
    "with batch_path.open(mode='w') as output_file:\n",
    "\n",
    "    output_file.write(\"loop_\\n\\\n",
    "    _riet_analysis_file\\n\\\n",
    "    _riet_analysis_iteration_number\\n\\\n",
    "    _riet_analysis_wizard_index\\n\\\n",
    "    _riet_analysis_fileToSave\\n\\\n",
    "    _riet_append_simple_result_to\\n\\n\")\n",
    "    # note, _riet_meas_datafile_name\\n removed from above for swapping the data files.\n",
    "    # note, _riet_append_result_to\\n removed as this only prints out Rwp value.\n",
    "\n",
    "    for image_number in range (start, end + 1, step):\n",
    "        output_file.write(f\"'/analysis/{test_number:03d}/MAUD_{test_number:03d}_{image_number:05d}_{phase}.par' \"\n",
    "        f\"{number_of_iterations} 13 '/analysis/{test_number:03d}/MAUD_{test_number:03d}_\"\n",
    "        f\"{image_number:05d}_{phase}_{number_of_iterations}iter.par' \"\n",
    "        f\"'/analysis/{test_number:03d}/batch_results_{test_number:03d}_{phase}_{number_of_iterations}iter.txt\\'\\n\")\n",
    "print(\".ins file written.\")"
   ]
  },
  {
   "cell_type": "code",
   "execution_count": null,
   "metadata": {},
   "outputs": [],
   "source": []
  }
 ],
 "metadata": {
  "kernelspec": {
   "display_name": "Python 3",
   "language": "python",
   "name": "python3"
  },
  "language_info": {
   "codemirror_mode": {
    "name": "ipython",
    "version": 3
   },
   "file_extension": ".py",
   "mimetype": "text/x-python",
   "name": "python",
   "nbconvert_exporter": "python",
   "pygments_lexer": "ipython3",
   "version": "3.7.1"
  },
  "pycharm": {
   "stem_cell": {
    "cell_type": "raw",
    "metadata": {
     "collapsed": false
    },
    "source": []
   }
  }
 },
 "nbformat": 4,
 "nbformat_minor": 2
}
