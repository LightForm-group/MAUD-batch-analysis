{
 "cells": [
  {
   "cell_type": "markdown",
   "metadata": {},
   "source": [
    "This notebook contains an analysis workflow for refining textures in diffraction spectra using MAUD (http://maud.radiographema.eu/)"
   ]
  },
  {
   "cell_type": "markdown",
   "metadata": {},
   "source": [
    "## Import packages"
   ]
  },
  {
   "cell_type": "code",
   "execution_count": 1,
   "metadata": {},
   "outputs": [],
   "source": [
    "from decimal import Decimal\n",
    "import pathlib\n",
    "\n",
    "from tqdm.notebook import tqdm\n",
    "import numpy as np"
   ]
  },
  {
   "cell_type": "markdown",
   "metadata": {},
   "source": [
    "## Notes on preparing the .par file"
   ]
  },
  {
   "cell_type": "markdown",
   "metadata": {},
   "source": [
    "Before beginning the analysis a template .par file must be set up in MAUD."
   ]
  },
  {
   "cell_type": "markdown",
   "metadata": {},
   "source": [
    "## Preparing the DAWN spectra"
   ]
  },
  {
   "cell_type": "markdown",
   "metadata": {},
   "source": [
    "In DAWN the data must be caked with the x-axis chosen as pixel number (pixels) and saved as a .dat file. \n",
    "\n",
    "It is not possible to adjust data using x-axis as the two-theta angle (degrees)."
   ]
  },
  {
   "cell_type": "markdown",
   "metadata": {},
   "source": [
    "## User parameters for preparing analysis files"
   ]
  },
  {
   "cell_type": "code",
   "execution_count": null,
   "metadata": {},
   "outputs": [],
   "source": [
    "# user inputs (in mm)\n",
    "detector_distance = 1194.8865\n",
    "pixel_size = 0.296\n",
    "\n",
    "# Test number is put in the name of the input file\n",
    "test_number = 65\n",
    "\n",
    "# The formatting of the name of the input files\n",
    "file_prefix = 'adc_{:03d}_TI64_NDload_900C_15mms'.format(test_number)\n",
    "dir_name = 'data/' + file_prefix + '_ascii/'\n",
    "\n",
    "# This specifies the angle of the first cake in the data file.\n",
    "start_angle = 0\n",
    "\n",
    "# Number and spacing of files to read\n",
    "start = 0\n",
    "end = 10\n",
    "step = 1\n",
    "\n",
    "# Where the .esg files are written\n",
    "output_folder = pathlib.Path(\"analysis\")"
   ]
  },
  {
   "cell_type": "markdown",
   "metadata": {},
   "source": [
    "## Loop through multiple input files to output .esg data files for MAUD"
   ]
  },
  {
   "cell_type": "markdown",
   "metadata": {},
   "source": [
    "Normally we have many analysis files spaced in time. We can read these in a loop and produce one .esg data files for each input file.\n",
    "\n",
    "In this case the output files are written into a folder called 'analysis' and saved in the format MAUD_065_00001.esg where 065 is experiment number and 00001 is test number."
   ]
  },
  {
   "cell_type": "code",
   "execution_count": null,
   "metadata": {},
   "outputs": [],
   "source": [
    "# loop through the data using the image number of the files\n",
    "for image_number in tqdm(range(start, end + 1, step)):\n",
    "    \n",
    "    # caked synchrotron data from DAWN\n",
    "    input_file = dir_name + file_prefix + '_{:05d}.dat'.format(image_number)\n",
    "    input_data = np.loadtxt(input_file)\n",
    "    # Read the pixel spacing from the data file and multiply by pixel size to get pixel positions in mm\n",
    "    pixel_list = input_data[:, 0] * pixel_size\n",
    "    \n",
    "    cake_spectrum = input_data[:, 1:]\n",
    "    number_of_cakes = cake_spectrum.shape[1]\n",
    "    cake_width = 360 / number_of_cakes\n",
    "    \n",
    "    # Name and open the output MAUD data file\n",
    "    output_folder.mkdir(exist_ok=True)\n",
    "    output_path = output_folder / pathlib.Path('MAUD_{:03d}_{:05d}.esg'.format(test_number,image_number))\n",
    "    \n",
    "    with open(output_path, 'w') as output_file:\n",
    "\n",
    "        # write metadata for the top of the file\n",
    "        output_file.write('_pd_block_id noTitle|#0\\n\\\n",
    "        _diffrn_detector Image Plate\\n\\\n",
    "        _diffrn_detector_type Image Plate\\n\\\n",
    "        _pd_meas_step_count_time ?\\n\\\n",
    "        _diffrn_measurement_method ?\\n\\\n",
    "        _diffrn_measurement_distance_unit mm\\n\\\n",
    "        _pd_instr_dist_spec/detc {:.4f}\\n'.format(detector_distance))\n",
    "        output_file.write('_diffrn_radiation_wavelength ?\\n\\\n",
    "        _diffrn_source_target ?\\n\\\n",
    "        _diffrn_source_power ?\\n\\\n",
    "        _diffrn_source_current ?\\n\\\n",
    "        _pd_meas_angle_omega 0.0\\n\\\n",
    "        _pd_meas_angle_chi 0.0\\n\\\n",
    "        _pd_meas_angle_phi 0.0\\n\\\n",
    "        _riet_par_spec_displac_x 0\\n\\\n",
    "        _riet_par_spec_displac_y 0\\n\\\n",
    "        _riet_par_spec_displac_z 0\\n\\\n",
    "        _riet_meas_datafile_calibrated false\\n\\\n",
    "        _pd_meas_angle_eta {:.1f}\\n\\n'.format(start_angle))\n",
    "        output_file.write('loop_\\n\\\n",
    "        _pd_proc_2theta_corrected\\n\\\n",
    "        _pd_meas_intensity_total\\n')\n",
    "\n",
    "        # write the first cake intensity data\n",
    "        for i in range(len(pixel_list)-1,-1,-1):\n",
    "            output_file.write('{:.3f}\\t{:.8f}\\n'.format(pixel_list[i], cake_spectrum[i][0]))\n",
    "\n",
    "        # write all the other cake data with additional info\n",
    "        for cake_number in range(1, number_of_cakes, 1):    \n",
    "            output_file.write('\\n_pd_block_id noTitle|#{:.0f}\\n\\n'.format(cake_number))\n",
    "            cake_angle = start_angle + cake_number * cake_width\n",
    "            output_file.write('_pd_meas_angle_eta {:.1f}\\n\\n'.format(cake_angle))\n",
    "            output_file.write('loop_\\n\\\n",
    "            _pd_proc_2theta_corrected\\n\\\n",
    "            _pd_meas_intensity_total\\n')\n",
    "\n",
    "            # write cake intensity data for each cake\n",
    "            for i in range(len(pixel_list)-1, -1, -1):\n",
    "                output_file.write('{:.3f}\\t{:.8f}\\n'.format(pixel_list[i], cake_spectrum[i][cake_number]))\n",
    "                \n",
    "print(f\"{int((end + 1 - start) / step)} .esg data files written to '{output_folder}' folder.\")"
   ]
  },
  {
   "cell_type": "markdown",
   "metadata": {
    "collapsed": true
   },
   "source": [
    "## Output many .par analysis files for MAUD batch mode analysis"
   ]
  },
  {
   "cell_type": "markdown",
   "metadata": {},
   "source": [
    "Write out a number of .par analysis files to be refined using the MAUD batch mode. \n",
    "\n",
    "\n",
    "A starting MAUD par analysis file is needed to swap the data into. This file will have been manually refined in MAUD and be setup to refine in batch mode. It is assumed that this start MAUD par file is named in the format start_065.par, where 065 is the experiment number.\n",
    "\n",
    "\n",
    "The output files are written into an 'analysis' folder and saved in the format MAUD_065_00001.par where 065 is experiment number and 00001 is test number. This analysis folder will then be used in the subsequent batch mode analysis."
   ]
  },
  {
   "cell_type": "code",
   "execution_count": null,
   "metadata": {
    "scrolled": true
   },
   "outputs": [],
   "source": [
    "# path to the start_***.par file\n",
    "par_dir_name = 'data/par/'\n",
    "\n",
    "# Name of the data (.esg files) to be replaced in the MAUD start_***.par file\n",
    "previous_esg_filename = 'MAUD_{:03d}_00000'.format(test_number)\n",
    "\n",
    "# MAUD file to swap the data into\n",
    "template_par = par_dir_name + 'start_{:03d}.par'.format(test_number)\n",
    "\n",
    "\n",
    "for image_number in tqdm(range(start, end + 1, step)):\n",
    "    \n",
    "    # caked synchrotron data from DAWN\n",
    "    input_file = dir_name + file_prefix + '_{:05d}.dat'.format(image_number)\n",
    "    input_data = np.loadtxt(input_file)\n",
    "    # Read the pixel spacing from the data file and multiply by pixel size to get pixel positions in mm\n",
    "    pixel_list = input_data[:, 0] * pixel_size\n",
    "    \n",
    "    cake_spectrum = input_data[:, 1:]\n",
    "    number_of_cakes = cake_spectrum.shape[1]\n",
    "    cake_width = 360 / number_of_cakes\n",
    "    \n",
    "   \n",
    "    # output MAUD analysis file\n",
    "    output_par_path = output_folder / pathlib.Path(f'MAUD_{test_number:03d}_{image_number:05d}.par')\n",
    "    \n",
    "    with open(template_par, 'r') as template_par_file, open(output_par_path, 'w') as new_par_file:\n",
    "        cake_number = 0\n",
    "        line = template_par_file.readline()\n",
    "            \n",
    "        while line:\n",
    "            # rename the datafiles in the .par file\n",
    "            if previous_esg_filename in line:\n",
    "                new_esg_filename = 'MAUD_{:03d}_{:05d}'.format(test_number, image_number)\n",
    "                new_line = line.replace(previous_esg_filename, new_esg_filename)\n",
    "                new_par_file.write(new_line)\n",
    "                \n",
    "            # replace the data when this line is found\n",
    "            elif '_pd_meas_position _pd_meas_intensity_total _pd_meas_intensity_sigma' in line:\n",
    "                new_par_file.write(line)\n",
    "                \n",
    "                # write the new data in place\n",
    "                for j in range(len(pixel_list)-1, -1, -1):\n",
    "                    template_par_file.readline()\n",
    "                    new_par_file.write('{:.3f}\\t{:.8f}\\t1.0\\n'.format(pixel_list[j], cake_spectrum[j][cake_number]))\n",
    "                cake_number += 1\n",
    "            \n",
    "            # write the rest of the file\n",
    "            else:\n",
    "                new_par_file.write(line)\n",
    "            \n",
    "            line = template_par_file.readline()\n",
    "            \n",
    "print(f\"Written {int((end + 1 - start) / step)} files to '{output_folder}' folder.\")"
   ]
  },
  {
   "cell_type": "markdown",
   "metadata": {
    "heading_collapsed": true
   },
   "source": [
    "## Write an instruction file for the batch mode"
   ]
  },
  {
   "cell_type": "markdown",
   "metadata": {
    "hidden": true
   },
   "source": [
    "To run the analysis in batch mode, an instruction file is required to tell MAUD exaclty what analysis to do. This section writes the .ins file.\n",
    "\n",
    "The number 13 corresponds to the refinement analysis in MAUD. The number of iterations sets how many times to run the refinement on each sample."
   ]
  },
  {
   "cell_type": "code",
   "execution_count": null,
   "metadata": {
    "hidden": true
   },
   "outputs": [],
   "source": [
    "# user inputs\n",
    "number_of_iterations = 7\n",
    "\n",
    "batch_path = pathlib.Path('MAUD_batch_065.ins')\n",
    "with batch_path.open(mode='w') as output_file:\n",
    "\n",
    "    output_file.write(\"loop_\\n\\\n",
    "    _riet_analysis_file\\n\\\n",
    "    _riet_analysis_iteration_number\\n\\\n",
    "    _riet_analysis_wizard_index\\n\\\n",
    "    _riet_analysis_fileToSave\\n\\\n",
    "    _riet_append_simple_result_to\\n\\n\")\n",
    "    # note, _riet_meas_datafile_name\\n\\ removed from above for swapping the files.\n",
    "    # note, also _riet_append_result_to\\n\\ but this is only the Rwp value\n",
    "\n",
    "    for file_number in range (start, end + 1, step):\n",
    "        output_file.write(f\"'/analysis/MAUD_{test_number:03d}_{file_number:05d}.par' \"\n",
    "                          f\"{number_of_iterations} 13 '/analysis/MAUD_{test_number:03d}_\"\n",
    "                          f\"{file_number:05d}_refined.par' '/analysis/batch_results.txt\\'\\n\")\n",
    "print(\".ins file written.\")"
   ]
  },
  {
   "cell_type": "markdown",
   "metadata": {
    "heading_collapsed": true
   },
   "source": [
    "## Running MAUD batch mode"
   ]
  },
  {
   "cell_type": "markdown",
   "metadata": {
    "hidden": true
   },
   "source": [
    "Place the instruction .ins file and a folder for the analysis (containing the newly created .par analysis files) in a sensible location, such as; \n",
    "\n",
    "\n",
    "**/Users/mbcx9cd4/Documents/maud/batch/**\n",
    "\n",
    "\n",
    "_Note, be careful with using a dropbox folder such as /Users/mbcx9cd4/Dropbox\\ \\(Research\\ Group\\)/Lightform\\ Postdoc/MAUD_\n",
    "\n",
    "\n",
    "In the terminal navigate to the hidden files within the maud.app using the command; \n",
    "\n",
    "\n",
    "**cd /Applications/Maud.app/Contents/Resources/Java**\n",
    "\n",
    "\n",
    "_Note, you can view these files by right clicking on show package contents._\n",
    "\n",
    "\n",
    "Then, run the command to start the batch mode;\n",
    "\n",
    "\n",
    "**java -mx2048M -cp Maud.jar:miscLib.jar:jgaec.jar:ij.jar com.radiographema.MaudText -f /Users/mbcx9cd4/Documents/maud/batch/MAUD_batch_065_mac.ins**\n",
    "\n",
    "\n",
    "A pop-up window will then appear, navigate to the .ins instruction file and click open. The batch mode will then run, showing the refinements in the terminal."
   ]
  },
  {
   "cell_type": "markdown",
   "metadata": {},
   "source": [
    "## Plotting refinement results"
   ]
  },
  {
   "cell_type": "code",
   "execution_count": null,
   "metadata": {},
   "outputs": [],
   "source": [
    "results_file = 'analysis/batch_results.txt'\n",
    "results = np.loadtxt(result_file, usecols = (0), skiprows=1)\n",
    "print('number of pixels =', len(pixel_number))"
   ]
  }
 ],
 "metadata": {
  "kernelspec": {
   "display_name": "Python 3",
   "language": "python",
   "name": "python3"
  },
  "language_info": {
   "codemirror_mode": {
    "name": "ipython",
    "version": 3
   },
   "file_extension": ".py",
   "mimetype": "text/x-python",
   "name": "python",
   "nbconvert_exporter": "python",
   "pygments_lexer": "ipython3",
   "version": "3.7.1"
  }
 },
 "nbformat": 4,
 "nbformat_minor": 2
}
