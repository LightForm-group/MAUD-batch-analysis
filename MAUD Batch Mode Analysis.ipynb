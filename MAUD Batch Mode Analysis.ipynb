{
 "cells": [
  {
   "cell_type": "markdown",
   "metadata": {},
   "source": [
    "This notebook contains an analysis workflow for plotting refinement results from MAUD batch mode (http://maud.radiographema.eu/) and extracting crystallographic texture data for analysis using the MTEX toolbox in MATLAB (https://mtex-toolbox.github.io)\n",
    "\n",
    "## Import packages"
   ]
  },
  {
   "cell_type": "code",
   "execution_count": null,
   "metadata": {},
   "outputs": [],
   "source": [
    "import pathlib\n",
    "import re\n",
    "\n",
    "from tqdm.notebook import tqdm\n",
    "import numpy as np\n",
    "import matplotlib.pyplot as plt\n",
    "\n",
    "%matplotlib inline"
   ]
  },
  {
   "cell_type": "markdown",
   "metadata": {},
   "source": [
    "## Plotting refinement results"
   ]
  },
  {
   "cell_type": "markdown",
   "metadata": {},
   "source": [
    "Read in results of the fit from the text file:"
   ]
  },
  {
   "cell_type": "code",
   "execution_count": null,
   "metadata": {},
   "outputs": [],
   "source": [
    "# user inputs\n",
    "\n",
    "# test number\n",
    "test_number = 65\n",
    "\n",
    "# which phase is being refined?\n",
    "phase = 'beta'\n",
    "\n",
    "# number of refinement iterations\n",
    "number_of_iterations = 20"
   ]
  },
  {
   "cell_type": "code",
   "execution_count": null,
   "metadata": {},
   "outputs": [],
   "source": [
    "results_file = f'analysis/{test_number:03d}/batch_results_{test_number:03d}_{phase}_{number_of_iterations}iter.txt'\n",
    "results = np.loadtxt(results_file, usecols = np.arange(0,19), dtype='str', skiprows = 1)"
   ]
  },
  {
   "cell_type": "markdown",
   "metadata": {},
   "source": [
    "Read in the data headers:"
   ]
  },
  {
   "cell_type": "code",
   "execution_count": null,
   "metadata": {
    "scrolled": true
   },
   "outputs": [],
   "source": [
    "with open (results_file) as file:\n",
    "    header = file.readline().split()\n",
    "    for i in range(0, len(header)):\n",
    "        print('header column ', i ,' = ', header[i])"
   ]
  },
  {
   "cell_type": "markdown",
   "metadata": {},
   "source": [
    "Write the results of the fit to new arrays:"
   ]
  },
  {
   "cell_type": "code",
   "execution_count": null,
   "metadata": {},
   "outputs": [],
   "source": [
    "title = results[:,0]\n",
    "R_wp = results[:,1].astype(np.float)\n",
    "phase = results[0,2]\n",
    "volume = results[:,3].astype(np.float)\n",
    "vol_error = results[:,4].astype(np.float)\n",
    "weight_percent = results[:,5].astype(np.float)\n",
    "weight_error = results[:,6].astype(np.float)\n",
    "cell_par_a = results[:,7].astype(np.float)\n",
    "cell_par_c = results[:,8].astype(np.float)\n",
    "size = results[:,9].astype(np.float)\n",
    "microstrain = results[:,10].astype(np.float)\n",
    "phase2 = results[0,11]\n",
    "volume2 = results[:,12].astype(np.float)\n",
    "vol_error2 = results[:,13].astype(np.float)\n",
    "weight_percent2 = results[:,14].astype(np.float)\n",
    "weight_error2 = results[:,15].astype(np.float)\n",
    "cell_par_a2 = results[:,16].astype(np.float)\n",
    "size2 = results[:,17].astype(np.float)\n",
    "microstrain2 = results[:,18].astype(np.float)"
   ]
  },
  {
   "cell_type": "markdown",
   "metadata": {},
   "source": [
    "Get the test numbers from the data names:"
   ]
  },
  {
   "cell_type": "code",
   "execution_count": null,
   "metadata": {},
   "outputs": [],
   "source": [
    "test_number = []\n",
    "\n",
    "for test_name in title:   \n",
    "    test_num = ''.join(re.findall(r'\\D(\\d{5})\\D', test_name))\n",
    "    test_number.append(int(test_num))\n",
    "\n",
    "print('test_number =', test_number)"
   ]
  },
  {
   "cell_type": "markdown",
   "metadata": {},
   "source": [
    "Plotting parameters:"
   ]
  },
  {
   "cell_type": "code",
   "execution_count": null,
   "metadata": {},
   "outputs": [],
   "source": [
    "plt.rc('xtick', labelsize = 24)\n",
    "plt.rc('ytick', labelsize = 24)\n",
    "plt.rc('legend', fontsize = 20)\n",
    "plt.rc('axes', linewidth = 2)\n",
    "plt.rc('xtick.major', width = 2, size = 10)\n",
    "plt.rc('xtick.minor', width = 2, size = 5)\n",
    "plt.rc('ytick.major', width = 2, size = 10)\n",
    "plt.rc('ytick.minor', width = 2, size = 5)"
   ]
  },
  {
   "cell_type": "markdown",
   "metadata": {},
   "source": [
    "Plot the goodness of fit (R<sub>wp</sub>) values:"
   ]
  },
  {
   "cell_type": "code",
   "execution_count": null,
   "metadata": {},
   "outputs": [],
   "source": [
    "plt.figure(figsize=(10,8))\n",
    "plt.plot(test_number, R_wp, color = 'red', linewidth = 4)\n",
    "plt.title(header[1], fontsize = 30)\n",
    "plt.xlabel('Test Number', fontsize = 30)\n",
    "plt.ylabel(header[1], fontsize = 30)"
   ]
  },
  {
   "cell_type": "markdown",
   "metadata": {},
   "source": [
    "Plot the volume, weight percent, a and c cell parameter, size and microstrain for the $\\alpha$ phase:"
   ]
  },
  {
   "cell_type": "code",
   "execution_count": null,
   "metadata": {
    "scrolled": true
   },
   "outputs": [],
   "source": [
    "fig, ((ax1,ax2,ax3),(ax4,ax5,ax6)) = plt.subplots(2, 3, figsize = (25, 15))\n",
    "\n",
    "colour = '#003f5c', '#444e86', '#955196', '#dd5182', '#ff6e54', '#ffa600'\n",
    "\n",
    "ax1.minorticks_on()\n",
    "ax1.plot(test_number, volume, color = colour[0], linewidth = 4)\n",
    "# ax1.set_title(header[3], fontsize = 30)\n",
    "ax1.set_xlabel('Test Number', fontsize = 30)\n",
    "ax1.set_ylabel(header[3], fontsize = 30)\n",
    "\n",
    "ax2.minorticks_on()\n",
    "ax2.plot(test_number, weight_percent, color = colour[1], linewidth = 4)\n",
    "# ax2.set_title(header[5], fontsize = 30)\n",
    "ax2.set_xlabel('Test Number', fontsize = 30)\n",
    "ax2.set_ylabel(header[5], fontsize = 30)\n",
    "\n",
    "ax3.minorticks_on()\n",
    "ax3.plot(test_number, cell_par_a, color = colour[2], linewidth = 4)\n",
    "# ax3.set_title(header[7], fontsize = 30)\n",
    "ax3.set_xlabel('Test Number', fontsize = 30)\n",
    "ax3.set_ylabel(header[7], fontsize = 30)\n",
    "\n",
    "ax4.minorticks_on()\n",
    "ax4.plot(test_number, cell_par_c, color = colour[3], linewidth = 4)\n",
    "# ax4.set_title(header[8], fontsize = 30)\n",
    "ax4.set_xlabel('Test Number', fontsize = 30)\n",
    "ax4.set_ylabel(header[8], fontsize = 30)\n",
    "\n",
    "ax5.minorticks_on()\n",
    "ax5.plot(test_number, size, color = colour[4], linewidth = 4)\n",
    "# ax5.set_title(header[9], fontsize = 30)\n",
    "ax5.set_xlabel('Test Number', fontsize = 30)\n",
    "ax5.set_ylabel(header[9], fontsize = 30)\n",
    "\n",
    "ax6.minorticks_on()\n",
    "ax6.plot(test_number, microstrain, color = colour[5], linewidth = 4)\n",
    "# ax6.set_title(header[10], fontsize = 30)\n",
    "ax6.set_xlabel('Test Number', fontsize = 30)\n",
    "ax6.set_ylabel(header[10], fontsize = 30)\n",
    "\n",
    "fig.suptitle(header[2] + ' = ' + phase, x = 0.525, y = 1.02, fontsize = 36)\n",
    "\n",
    "fig.tight_layout()"
   ]
  },
  {
   "cell_type": "markdown",
   "metadata": {},
   "source": [
    "Plot the errors for the volume and weight percent for the $\\alpha$ phase:"
   ]
  },
  {
   "cell_type": "code",
   "execution_count": null,
   "metadata": {},
   "outputs": [],
   "source": [
    "fig, ((ax1,ax2)) = plt.subplots(1, 2, figsize = (25, 8))\n",
    "\n",
    "ax1.minorticks_on()\n",
    "ax1.plot(test_number, vol_error, color = colour[0], linewidth = 4)\n",
    "# ax1.set_title(header[4] + ' of ' + results_header[3], fontsize = 30)\n",
    "ax1.set_xlabel('Test Number', fontsize = 30)\n",
    "ax1.set_ylabel(header[4] + ' of ' + header[3], fontsize = 30)\n",
    "\n",
    "ax2.minorticks_on()\n",
    "ax2.plot(test_number, weight_error, color = colour[1], linewidth = 4)\n",
    "# ax2.set_title(header[6] + ' of ' + results_header[5], fontsize = 30)\n",
    "ax2.set_xlabel('Test Number', fontsize = 30)\n",
    "ax2.set_ylabel(header[6] + ' of ' + header[5], fontsize = 30)\n",
    "\n",
    "fig.suptitle(header[2] + ' = ' + phase, x = 0.525, y = 1.05, fontsize = 36)\n",
    "\n",
    "fig.tight_layout()"
   ]
  },
  {
   "cell_type": "markdown",
   "metadata": {},
   "source": [
    "Plot the volume, weight percent, a cell parameter, size and microstrain for the $\\beta$ phase:"
   ]
  },
  {
   "cell_type": "code",
   "execution_count": null,
   "metadata": {},
   "outputs": [],
   "source": [
    "fig, ((ax1,ax2,ax3),(ax4,ax5,ax6)) = plt.subplots(2, 3, figsize = (25, 15))\n",
    "\n",
    "ax1.minorticks_on()\n",
    "ax1.plot(test_number, volume2, color = colour[0], linewidth = 4)\n",
    "# ax1.set_title(header[12], fontsize = 30)\n",
    "ax1.set_xlabel('Test Number', fontsize = 30)\n",
    "ax1.set_ylabel(header[12], fontsize = 30)\n",
    "\n",
    "ax2.minorticks_on()\n",
    "ax2.plot(test_number, weight_percent2, color = colour[1], linewidth = 4)\n",
    "# ax2.set_title(header[14], fontsize = 30)\n",
    "ax2.set_xlabel('Test Number', fontsize = 30)\n",
    "ax2.set_ylabel(header[14], fontsize = 30)\n",
    "\n",
    "ax3.axis('off') # since there is only one cell parameter for the beta phase\n",
    "\n",
    "ax4.minorticks_on()\n",
    "ax4.plot(test_number, cell_par_a2, color = colour[2], linewidth = 4)\n",
    "# ax4.set_title(header[16], fontsize = 30)\n",
    "ax4.set_xlabel('Test Number', fontsize = 30)\n",
    "ax4.set_ylabel(header[16], fontsize = 30)\n",
    "\n",
    "ax5.minorticks_on()\n",
    "ax5.plot(test_number, size2, color = colour[4], linewidth = 4)\n",
    "# ax5.set_title(header[17], fontsize = 30)\n",
    "ax5.set_xlabel('Test Number', fontsize = 30)\n",
    "ax5.set_ylabel(header[17], fontsize = 30)\n",
    "\n",
    "ax6.minorticks_on()\n",
    "ax6.plot(test_number, microstrain, color = colour[5], linewidth = 4)\n",
    "# ax6.set_title(header[18], fontsize = 30)\n",
    "ax6.set_xlabel('Test Number', fontsize = 30)\n",
    "ax6.set_ylabel(header[18], fontsize = 30)\n",
    "\n",
    "fig.suptitle(header[11] + ' = ' + phase2, x = 0.525, y = 1.02, fontsize = 36)\n",
    "\n",
    "fig.tight_layout()"
   ]
  },
  {
   "cell_type": "markdown",
   "metadata": {},
   "source": [
    "Plot the errors for the volume and weight percent for the $\\beta$ phase:"
   ]
  },
  {
   "cell_type": "code",
   "execution_count": null,
   "metadata": {},
   "outputs": [],
   "source": [
    "fig, ((ax1,ax2)) = plt.subplots(1, 2, figsize = (25, 8))\n",
    "\n",
    "ax1.minorticks_on()\n",
    "ax1.plot(test_number, vol_error2, color = colour[0], linewidth = 4)\n",
    "# ax1.set_title(header[13] + ' of ' + results_header[3], fontsize = 30)\n",
    "ax1.set_xlabel('Test Number', fontsize = 30)\n",
    "ax1.set_ylabel(header[13] + ' of ' + header[3], fontsize = 30)\n",
    "\n",
    "ax2.minorticks_on()\n",
    "ax2.plot(test_number, weight_error2, color = colour[1], linewidth = 4)\n",
    "# ax2.set_title(header[15] + ' of ' + results_header[5], fontsize = 30)\n",
    "ax2.set_xlabel('Test Number', fontsize = 30)\n",
    "ax2.set_ylabel(header[15] + ' of ' + header[5], fontsize = 30)\n",
    "\n",
    "fig.suptitle(header[11] + ' = ' + phase2, x = 0.525, y = 1.05, fontsize = 36)\n",
    "\n",
    "fig.tight_layout()"
   ]
  },
  {
   "cell_type": "markdown",
   "metadata": {},
   "source": [
    "## Writing the ODF for plotting in MTEX"
   ]
  },
  {
   "cell_type": "markdown",
   "metadata": {},
   "source": [
    "The .par analysis file contains the ODF data. We find the data after the line '_rita_wimv_odf_values'. It is in the form of **Euler angles using the Matthies convention**."
   ]
  },
  {
   "cell_type": "code",
   "execution_count": null,
   "metadata": {},
   "outputs": [],
   "source": [
    "def write_odf_to_text(start: int, end: int, step: int, test_number: int, phase: str, number_of_iterations: int,\n",
    "                 output_folder: str, odf_resolution: int):\n",
    "    \"\"\"This function searches for the odf within refined MAUD analysis '.par' files and \n",
    "    writes the recorded intensities to a text file that is readable in MTEX.\n",
    "    \"\"\"\n",
    "    for image_number in tqdm(range(start, end + 1, step)):\n",
    "\n",
    "        # input refined MAUD analysis file\n",
    "        input_path = f'analysis/{test_number:03d}/MAUD_{test_number:03d}_{image_number:05d}_{phase}_{number_of_iterations}iter.par'\n",
    "\n",
    "        # output ODF text file to load into MTEX\n",
    "        output_path = f'{output_folder}/ODF_{test_number:03d}_{image_number:05d}_{phase}_{number_of_iterations}iter.txt'\n",
    "\n",
    "        with open(input_path, 'r') as par_analysis_file, open(output_path, 'w') as odf_text_file:  \n",
    "            line = par_analysis_file.readline()\n",
    "\n",
    "            if phase == 'alpha':\n",
    "                skip = False\n",
    "            if phase == 'beta':\n",
    "                skip = True\n",
    "\n",
    "            while line:\n",
    "                if '_rita_wimv_odf_values' in line and skip:\n",
    "                    line = par_analysis_file.readline()\n",
    "                    skip = False\n",
    "\n",
    "                if '_rita_wimv_odf_values' in line and skip == False:\n",
    "                    # set the step size to loop through the data\n",
    "                    step = odf_resolution / 10\n",
    "                    # set the limits of the data\n",
    "                    block_limit = int(7/step)\n",
    "                    row_limit = int(10/step)\n",
    "                    value_limit = int(37/step)\n",
    "\n",
    "                    for block in range(0, block_limit):\n",
    "\n",
    "                        if block <= block_limit:\n",
    "\n",
    "                            for row in range (0, row_limit):\n",
    "                                # read the data into an array \n",
    "                                intensity = par_analysis_file.readline().split()\n",
    "\n",
    "                                if row <= row_limit:\n",
    "\n",
    "                                    for value in range (0, value_limit):\n",
    "                                        # euler3 is 0 - 60 deg\n",
    "                                        euler3 = block * odf_resolution\n",
    "                                        # euler2 is 0 - 90 deg\n",
    "                                        euler2 = row * odf_resolution\n",
    "                                        # euler1 is 0 - 360 deg\n",
    "                                        euler1 = value * odf_resolution\n",
    "                                        # write the odf text file\n",
    "                                        odf_text_file.write('{:.4f}\\t{:.4f}\\t{:.4f}\\t{:.9f}\\n'.format(euler1, euler2, euler3, float(intensity[value])))     \n",
    "\n",
    "                                # skip blank line after the last row of each block\n",
    "                                # note, else if statement not applicable as both conditions needed\n",
    "                                if row == row_limit - 1:\n",
    "                                    par_analysis_file.readline()\n",
    "\n",
    "                        # break after the last block\n",
    "                        if block == block_limit - 2:\n",
    "                            done = True\n",
    "\n",
    "                    if done:break\n",
    "\n",
    "                else:\n",
    "                    line = par_analysis_file.readline()\n",
    "\n",
    "    print(f\"Written {int((end + 1 - start) / step)} ODF .txt files to '{output_folder}' folder.\")  "
   ]
  },
  {
   "cell_type": "code",
   "execution_count": null,
   "metadata": {},
   "outputs": [],
   "source": [
    "# test number is put in the name of the input and output file\n",
    "test_number = 65\n",
    "\n",
    "# which phase?\n",
    "phase = 'beta'\n",
    "\n",
    "# number of refinement iterations\n",
    "number_of_iterations = 20\n",
    "\n",
    "# number and spacing of files to read\n",
    "start = 0\n",
    "end = 10\n",
    "step = 1\n",
    "\n",
    "# set the resolution of the ODF as defined in MAUD, which defines the steps in euler angles in the ODF data.\n",
    "odf_resolution = 10\n",
    "\n",
    "# where the ODF .txt files are written\n",
    "output_folder = pathlib.Path(f\"texture/{test_number:03d} ODF data/\" + phase)\n",
    "\n",
    "write_odf_to_text(start, end, step, test_number, phase, number_of_iterations, output_folder, odf_resolution)"
   ]
  },
  {
   "cell_type": "code",
   "execution_count": null,
   "metadata": {},
   "outputs": [],
   "source": []
  }
 ],
 "metadata": {
  "kernelspec": {
   "display_name": "Python 3",
   "language": "python",
   "name": "python3"
  },
  "language_info": {
   "codemirror_mode": {
    "name": "ipython",
    "version": 3
   },
   "file_extension": ".py",
   "mimetype": "text/x-python",
   "name": "python",
   "nbconvert_exporter": "python",
   "pygments_lexer": "ipython3",
   "version": "3.6.8"
  }
 },
 "nbformat": 4,
 "nbformat_minor": 2
}
