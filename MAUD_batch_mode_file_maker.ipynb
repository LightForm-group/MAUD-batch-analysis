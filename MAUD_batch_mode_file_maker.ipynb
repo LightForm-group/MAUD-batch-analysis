{
 "cells": [
  {
   "cell_type": "markdown",
   "metadata": {},
   "source": [
    "## Import packages"
   ]
  },
  {
   "cell_type": "code",
   "execution_count": 2,
   "metadata": {},
   "outputs": [],
   "source": [
    "import numpy as np\n",
    "from decimal import Decimal"
   ]
  },
  {
   "cell_type": "markdown",
   "metadata": {},
   "source": [
    "## Notes on preparing the data"
   ]
  },
  {
   "cell_type": "markdown",
   "metadata": {},
   "source": [
    "In DAWN the data must be caked with the x-axis chosen as pixel number (pixels) and saved as a .dat file. \n",
    "\n",
    "It is not possible to adjust data using x-axis as the two-theta angle (degrees)."
   ]
  },
  {
   "cell_type": "markdown",
   "metadata": {},
   "source": [
    "## Write out a single .esg  data file for MAUD"
   ]
  },
  {
   "cell_type": "markdown",
   "metadata": {},
   "source": [
    "The current inputs assume cakes are taken from -5 to 355 degrees (right horizontal cake is zero), with cake widths of 10 degrees, giving a total of 36 cakes that start at 0 degrees. \n",
    "\n",
    "Note, the data is reversed during the write out, printing out intensity from the edge of the detector to the centre."
   ]
  },
  {
   "cell_type": "markdown",
   "metadata": {},
   "source": [
    "Input file:"
   ]
  },
  {
   "cell_type": "code",
   "execution_count": 3,
   "metadata": {},
   "outputs": [],
   "source": [
    "file_prefix = \"adc_065_TI64_NDload_900C_15mms\"\n",
    "dir_name = 'data/' + file_prefix + '_ascii/'\n",
    "input_file = dir_name + file_prefix + '_00001.dat'"
   ]
  },
  {
   "cell_type": "markdown",
   "metadata": {},
   "source": [
    "Load in the pixel number data and convert to pixel size:"
   ]
  },
  {
   "cell_type": "code",
   "execution_count": 5,
   "metadata": {},
   "outputs": [
    {
     "name": "stdout",
     "output_type": "stream",
     "text": [
      "number of pixels = 1027\n"
     ]
    }
   ],
   "source": [
    "pixel_number = np.loadtxt(input_file, usecols = (0))\n",
    "print('number of pixels =', len(pixel_number))"
   ]
  },
  {
   "cell_type": "code",
   "execution_count": 23,
   "metadata": {},
   "outputs": [
    {
     "name": "stdout",
     "output_type": "stream",
     "text": [
      "pixel spacing = 0.29571578080000005 μm\n"
     ]
    }
   ],
   "source": [
    "pixel_size = 0.296\n",
    "\n",
    "pixel_list=pixel_number*pixel_size\n",
    "print('pixel spacing =', pixel_list[2] - pixel_list[1], '\\u03BCm')"
   ]
  },
  {
   "cell_type": "markdown",
   "metadata": {},
   "source": [
    "Load in the intensity data for each cake:"
   ]
  },
  {
   "cell_type": "code",
   "execution_count": 24,
   "metadata": {},
   "outputs": [],
   "source": [
    "number_of_cakes = 36\n",
    "\n",
    "cake_spectrum = {}\n",
    "for cake in range(0, number_of_cakes):\n",
    "    cake_spectrum[cake] = np.loadtxt(input_file, usecols = (cake + 1))"
   ]
  },
  {
   "cell_type": "markdown",
   "metadata": {},
   "source": [
    "Write out a .esg data file using the data stored in pixel_list and cake_spectrum:"
   ]
  },
  {
   "cell_type": "code",
   "execution_count": 21,
   "metadata": {
    "collapsed": true
   },
   "outputs": [],
   "source": [
    "# user inputs\n",
    "detector_distance = 1194.865\n",
    "start_angle = 0\n",
    "cake_width = 10\n",
    "\n",
    "output_file = open('analysis/MAUD_065_00001.esg', 'w')\n",
    "\n",
    "# write metadata for the top of the file\n",
    "output_file.write('_pd_block_id noTitle|#0\\n\\\n",
    "_diffrn_detector Image Plate\\n\\\n",
    "_diffrn_detector_type Image Plate\\n\\\n",
    "_pd_meas_step_count_time ?\\n\\\n",
    "_diffrn_measurement_method ?\\n\\\n",
    "_diffrn_measurement_distance_unit mm\\n\\\n",
    "_pd_instr_dist_spec/detc {:.3f}\\n'.format(detector_distance))\n",
    "output_file.write('_diffrn_radiation_wavelength ?\\n\\\n",
    "_diffrn_source_target ?\\n\\\n",
    "_diffrn_source_power ?\\n\\\n",
    "_diffrn_source_current ?\\n\\\n",
    "_pd_meas_angle_omega 0.0\\n\\\n",
    "_pd_meas_angle_chi 0.0\\n\\\n",
    "_pd_meas_angle_phi 0.0\\n\\\n",
    "_riet_par_spec_displac_x 0\\n\\\n",
    "_riet_par_spec_displac_y 0\\n\\\n",
    "_riet_par_spec_displac_z 0\\n\\\n",
    "_riet_meas_datafile_calibrated false\\n\\\n",
    "_pd_meas_angle_eta {:.1f}\\n\\n'.format(start_angle))\n",
    "output_file.write('loop_\\n\\\n",
    "_pd_proc_2theta_corrected\\n\\\n",
    "_pd_meas_intensity_total\\n')\n",
    "\n",
    "# write the first cake intensity data\n",
    "for i in range(len(pixel_number)-1, -1, -1):\n",
    "    output_file.write('{:.3f}\\t{:.8f}\\n'.format(pixel_list[i], cake_spectrum[0][i]))\n",
    "\n",
    "# write the other cake data with some additional info\n",
    "for cake_number in range(1, number_of_cakes, 1):    \n",
    "    output_file.write('\\n_pd_block_id noTitle|#{:.0f}\\n\\n'.format(cake_number))\n",
    "    cake_angle = start_angle + cake_number * cake_width\n",
    "    output_file.write('_pd_meas_angle_eta {:.1f}\\n\\n'.format(cake_angle))\n",
    "    output_file.write('loop_\\n\\\n",
    "_pd_proc_2theta_corrected\\n\\\n",
    "_pd_meas_intensity_total\\n')\n",
    "    \n",
    "    # write the cake intensity data for each cake\n",
    "    for i in range(len(pixel_number)-1, -1, -1):\n",
    "        output_file.write('{:.3f}\\t{:.8f}\\n'.format(pixel_list[i], cake_spectrum[cake_number][i]))\n",
    "        \n",
    "output_file.close()"
   ]
  },
  {
   "cell_type": "markdown",
   "metadata": {},
   "source": [
    "## Loop through a larger data set and output many .esg data files for MAUD"
   ]
  },
  {
   "cell_type": "markdown",
   "metadata": {},
   "source": [
    "Write out a number of .esg data files. \n",
    "\n",
    "The output files are written into an 'analysis' folder and saved in the format MAUD_065_00001.esg where 065 is experiment number and 00001 is test number."
   ]
  },
  {
   "cell_type": "code",
   "execution_count": 3,
   "metadata": {},
   "outputs": [
    {
     "name": "stdout",
     "output_type": "stream",
     "text": [
      "analysis/MAUD_065_00000.esg\n",
      "analysis/MAUD_065_00001.esg\n",
      "analysis/MAUD_065_00002.esg\n",
      "analysis/MAUD_065_00003.esg\n",
      "analysis/MAUD_065_00004.esg\n",
      "analysis/MAUD_065_00005.esg\n",
      "analysis/MAUD_065_00006.esg\n",
      "analysis/MAUD_065_00007.esg\n",
      "analysis/MAUD_065_00008.esg\n",
      "analysis/MAUD_065_00009.esg\n",
      "analysis/MAUD_065_00010.esg\n"
     ]
    }
   ],
   "source": [
    "# user inputs\n",
    "detector_distance = 1194.8865\n",
    "pixel_size = 0.296\n",
    "\n",
    "# cake information\n",
    "number_of_cakes = 36\n",
    "start_angle = 0\n",
    "cake_width = 10\n",
    "\n",
    "# number of files\n",
    "start = 0\n",
    "end = 10\n",
    "step = 1\n",
    "\n",
    "# test number and input file name\n",
    "test_number = 65\n",
    "file_prefix = 'adc_{:03d}_TI64_NDload_900C_15mms'.format(test_number)\n",
    "dir_name = 'data/' + file_prefix + '_ascii/'\n",
    "\n",
    "# loop through the data using the image number of the files\n",
    "for image_number in range(start, end + 1, step):\n",
    "    \n",
    "    # caked synchrotron data from DAWN\n",
    "    input_file = dir_name + file_prefix + '_{:05d}.dat'.format(image_number)\n",
    "    pixel_number = np.loadtxt(input_file, usecols = (0))\n",
    "    pixel_list = pixel_number * pixel_size\n",
    "    cake_spectrum = {} \n",
    "    for cake in range(0, number_of_cakes):\n",
    "        cake_spectrum[cake] = np.loadtxt(input_file, usecols = (cake + 1))\n",
    "    \n",
    "    # output MAUD data file\n",
    "    output_file_name = 'analysis/MAUD_{:03d}_{:05d}.esg'.format(test_number,image_number)\n",
    "    output_file = open(output_file_name, 'w')\n",
    "    print(output_file_name)\n",
    "    \n",
    "    # write metadata for the top of the file\n",
    "    output_file.write('_pd_block_id noTitle|#0\\n\\\n",
    "_diffrn_detector Image Plate\\n\\\n",
    "_diffrn_detector_type Image Plate\\n\\\n",
    "_pd_meas_step_count_time ?\\n\\\n",
    "_diffrn_measurement_method ?\\n\\\n",
    "_diffrn_measurement_distance_unit mm\\n\\\n",
    "_pd_instr_dist_spec/detc {:.4f}\\n'.format(detector_distance))\n",
    "    output_file.write('_diffrn_radiation_wavelength ?\\n\\\n",
    "_diffrn_source_target ?\\n\\\n",
    "_diffrn_source_power ?\\n\\\n",
    "_diffrn_source_current ?\\n\\\n",
    "_pd_meas_angle_omega 0.0\\n\\\n",
    "_pd_meas_angle_chi 0.0\\n\\\n",
    "_pd_meas_angle_phi 0.0\\n\\\n",
    "_riet_par_spec_displac_x 0\\n\\\n",
    "_riet_par_spec_displac_y 0\\n\\\n",
    "_riet_par_spec_displac_z 0\\n\\\n",
    "_riet_meas_datafile_calibrated false\\n\\\n",
    "_pd_meas_angle_eta {:.1f}\\n\\n'.format(start_angle))\n",
    "    output_file.write('loop_\\n\\\n",
    "_pd_proc_2theta_corrected\\n\\\n",
    "_pd_meas_intensity_total\\n')\n",
    "\n",
    "    # write the first cake intensity data\n",
    "    for i in range(len(pixel_number)-1,-1,-1):\n",
    "        output_file.write('{:.3f}\\t{:.8f}\\n'.format(pixel_list[i], cake_spectrum[0][i]))\n",
    "\n",
    "    # write all the other cake data with additional info\n",
    "    for cake_number in range(1, number_of_cakes, 1):    \n",
    "        output_file.write('\\n_pd_block_id noTitle|#{:.0f}\\n\\n'.format(cake_number))\n",
    "        cake_angle = start_angle + cake_number * cake_width\n",
    "        output_file.write('_pd_meas_angle_eta {:.1f}\\n\\n'.format(cake_angle))\n",
    "        output_file.write('loop_\\n\\\n",
    "_pd_proc_2theta_corrected\\n\\\n",
    "_pd_meas_intensity_total\\n')\n",
    "        \n",
    "        # write cake intensity data for each cake\n",
    "        for i in range(len(pixel_number)-1, -1, -1):\n",
    "            output_file.write('{:.3f}\\t{:.8f}\\n'.format(pixel_list[i], cake_spectrum[cake_number][i]))\n",
    "\n",
    "    output_file.close()"
   ]
  },
  {
   "cell_type": "markdown",
   "metadata": {
    "collapsed": true
   },
   "source": [
    "## Output many .par analysis files for MAUD batch mode analysis"
   ]
  },
  {
   "cell_type": "markdown",
   "metadata": {},
   "source": [
    "Write out a number of .par analysis files to be refined using the MAUD batch mode. \n",
    "\n",
    "\n",
    "A starting MAUD par analysis file is needed to swap the data into. This file will have been manually refined in MAUD and be setup to refine in batch mode. It is assumed that this start MAUD par file is named in the format start_065.par, where 065 is the experiment number.\n",
    "\n",
    "\n",
    "The output files are written into an 'analysis' folder and saved in the format MAUD_065_00001.par where 065 is experiment number and 00001 is test number. This analysis folder will then be used in the subsequent batch mode analysis."
   ]
  },
  {
   "cell_type": "code",
   "execution_count": 2,
   "metadata": {
    "scrolled": true
   },
   "outputs": [
    {
     "name": "stdout",
     "output_type": "stream",
     "text": [
      "analysis/MAUD_065_00000.par\n",
      "analysis/MAUD_065_00001.par\n",
      "analysis/MAUD_065_00002.par\n",
      "analysis/MAUD_065_00003.par\n",
      "analysis/MAUD_065_00004.par\n",
      "analysis/MAUD_065_00005.par\n",
      "analysis/MAUD_065_00006.par\n",
      "analysis/MAUD_065_00007.par\n",
      "analysis/MAUD_065_00008.par\n",
      "analysis/MAUD_065_00009.par\n",
      "analysis/MAUD_065_00010.par\n"
     ]
    }
   ],
   "source": [
    "# user inputs\n",
    "pixel_size = 0.296\n",
    "\n",
    "# cake information\n",
    "number_of_cakes = 36\n",
    "start_angle = 0\n",
    "cake_width = 10\n",
    "\n",
    "# number of files\n",
    "start = 0\n",
    "end = 10\n",
    "step = 1\n",
    "\n",
    "# test number and input file name\n",
    "test_number = 65\n",
    "file_prefix = \"adc_{:03d}_TI64_NDload_900C_15mms\".format(test_number)\n",
    "dir_name = 'data/' + file_prefix + '_ascii/'\n",
    "\n",
    "# path to the start_***.par file\n",
    "# and name of the data (.esg files) to be replaced in the MAUD start_***.par file\n",
    "par_dir_name = 'data/par/'\n",
    "previous_esg_filename = 'MAUD_{:03d}_00000'.format(test_number)\n",
    "\n",
    "# leave this variable as zero\n",
    "cake_number = 0\n",
    "\n",
    "for image_number in range(start, end+1, step):\n",
    "    \n",
    "    # caked synchrotron data from DAWN\n",
    "    input_file = dir_name + file_prefix + '_{:05d}.dat'.format(image_number)\n",
    "    pixel_number = np.loadtxt(input_file, usecols = (0))\n",
    "    pixel_list = pixel_number * pixel_size\n",
    "    cake_spectrum = {}\n",
    "    for cake in range(0, number_of_cakes):\n",
    "        cake_spectrum[cake] = np.loadtxt(input_file, usecols = (cake + 1))\n",
    "    \n",
    "    # MAUD file to swap the data into\n",
    "    par_file_name = par_dir_name + 'start_{:03d}.par'.format(test_number)\n",
    "    \n",
    "    # output MAUD analysis file\n",
    "    output_file_name = 'analysis/MAUD_{:03d}_{:05d}.par'.format(test_number, image_number)\n",
    "    print(output_file_name)\n",
    "    \n",
    "    with open(par_file_name, 'r') as par_file, open(output_file_name, 'w') as new_par_file:\n",
    "        line = par_file.readline() # note, difference between readline and readlines\n",
    "        i=-1\n",
    "        while line:\n",
    "            i+=1\n",
    "            \n",
    "            # rename the datafiles in the .par file\n",
    "            if previous_esg_filename in line:\n",
    "                new_esg_filename = 'MAUD_{:03d}_{:05d}'.format(test_number, image_number)\n",
    "                new_line = line.replace(previous_esg_filename, new_esg_filename)\n",
    "                new_par_file.write(new_line)\n",
    "                line = par_file.readline()\n",
    "                \n",
    "            # replace the data when this line is found\n",
    "            if '_pd_meas_position _pd_meas_intensity_total _pd_meas_intensity_sigma' in line and cake_number < number_of_cakes:\n",
    "                new_par_file.write(line)\n",
    "                line = par_file.readline()\n",
    "                \n",
    "                # write the new data in place (note, new data must be same length as old data)\n",
    "                for j in range(len(pixel_number)-1, -1, -1):\n",
    "                    new_par_file.write('{:.3f}\\t{:.8f}\\t1.0\\n'.format(pixel_list[j], cake_spectrum[cake_number][j]))\n",
    "                    line = par_file.readline()\n",
    "                cake_number+=1\n",
    "                i = i + len(pixel_number)\n",
    "            \n",
    "            # write the rest of the file\n",
    "            else:\n",
    "                new_par_file.write(line)\n",
    "                line = par_file.readline()\n",
    "                \n",
    "        # reset to zero\n",
    "        cake_number = 0\n",
    "        \n",
    "        par_file.close()    \n",
    "        new_par_file.close()"
   ]
  },
  {
   "cell_type": "markdown",
   "metadata": {
    "heading_collapsed": true
   },
   "source": [
    "## Write an instruction file for the batch mode"
   ]
  },
  {
   "cell_type": "markdown",
   "metadata": {
    "hidden": true
   },
   "source": [
    "To run a batch mode, the instruction file should look something like this, to loop through and refine each of the analysis files (note, relative rather than absolute paths):"
   ]
  },
  {
   "cell_type": "code",
   "execution_count": 4,
   "metadata": {
    "hidden": true
   },
   "outputs": [
    {
     "name": "stdout",
     "output_type": "stream",
     "text": [
      "loop_\n",
      "_riet_analysis_file\n",
      "_riet_analysis_iteration_number\n",
      "_riet_analysis_wizard_index\n",
      "_riet_analysis_fileToSave\n",
      "_riet_append_simple_result_to\n",
      "_riet_append_result_to\n",
      "\n",
      "\n",
      "'/analysis/MAUD_065_00000.par' 7 13 '/analysis/MAUD_065_00000_refined.par' '/analysis/batch_results_simple.txt' '/analysis/batch_results.txt'\n",
      "\n",
      "'/analysis/MAUD_065_00001.par' 7 13 '/analysis/MAUD_065_00001_refined.par' '/analysis/batch_results_simple.txt' '/analysis/batch_results.txt'\n",
      "\n",
      "'/analysis/MAUD_065_00002.par' 7 13 '/analysis/MAUD_065_00002_refined.par' '/analysis/batch_results_simple.txt' '/analysis/batch_results.txt'\n",
      "\n",
      "'/analysis/MAUD_065_00003.par' 7 13 '/analysis/MAUD_065_00003_refined.par' '/analysis/batch_results_simple.txt' '/analysis/batch_results.txt'\n",
      "\n"
     ]
    }
   ],
   "source": [
    "# user inputs\n",
    "start = 0\n",
    "end = 3\n",
    "step = 1\n",
    "test_number = 65\n",
    "\n",
    "print(\"loop_\\n\\\n",
    "_riet_analysis_file\\n\\\n",
    "_riet_analysis_iteration_number\\n\\\n",
    "_riet_analysis_wizard_index\\n\\\n",
    "_riet_analysis_fileToSave\\n\\\n",
    "_riet_append_simple_result_to\\n\\\n",
    "_riet_append_result_to\\n\\n\")\n",
    "# note, _riet_meas_datafile_name\\n\\ removed from above for swapping the files.\n",
    "\n",
    "for i in range (start, end + 1, step):\n",
    "\n",
    "# note, one slash \\ stops formatting i.e. \\\\t prints \\t\n",
    "# for curly brackets add two, i.e. print({{) prints out {\n",
    "\n",
    "    print(\"\"\"'/analysis/MAUD_{:03d}_{:05d}.par' 7 13 '/analysis/MAUD_{:03d}_{:05d}_refined.par' '/analysis/batch_results_simple.txt' '/analysis/batch_results.txt\\'\\n\"\"\".format(test_number, i, test_number, i, test_number, i))"
   ]
  },
  {
   "cell_type": "markdown",
   "metadata": {
    "hidden": true
   },
   "source": [
    "Write out an instruction file (.ins) defining the batch mode loop. Stored in a file called 'batch files'"
   ]
  },
  {
   "cell_type": "code",
   "execution_count": 3,
   "metadata": {
    "hidden": true
   },
   "outputs": [],
   "source": [
    "# user inputs\n",
    "start = 0\n",
    "end = 10\n",
    "step = 1\n",
    "test_number = 65\n",
    "\n",
    "batch_file = open('batch files/MAUD_batch_065.ins','w')\n",
    "\n",
    "batch_file.write(\"loop_\\n\\\n",
    "_riet_analysis_file\\n\\\n",
    "_riet_analysis_iteration_number\\n\\\n",
    "_riet_analysis_wizard_index\\n\\\n",
    "_riet_analysis_fileToSave\\n\\\n",
    "_riet_append_simple_result_to\\n\\n\")\n",
    "# note, _riet_meas_datafile_name\\n\\ removed from above for swapping the files.\n",
    "# note, also _riet_append_result_to\\n\\ but this is only the Rwp value\n",
    "\n",
    "for i in range (start, end + 1, step):\n",
    "\n",
    "# note, one slash \\ stops formatting i.e. \\\\t prints \\t\n",
    "# for curly brackets add two, i.e. print({{) prints out {\n",
    "    \n",
    "    batch_file.write(\"\"\"'/analysis/MAUD_{:03d}_{:05d}.par' 7 13 '/analysis/MAUD_{:03d}_{:05d}_refined.par' '/analysis/batch_results.txt\\'\\n\"\"\".format(test_number, i, test_number, i, test_number, i))\n",
    "\n",
    "batch_file.close()"
   ]
  },
  {
   "cell_type": "markdown",
   "metadata": {
    "heading_collapsed": true
   },
   "source": [
    "## Running MAUD batch mode"
   ]
  },
  {
   "cell_type": "markdown",
   "metadata": {
    "hidden": true
   },
   "source": [
    "Place the instruction .ins file and a folder for the analysis (containing the newly created .par analysis files) in a sensible location, such as; \n",
    "\n",
    "\n",
    "**/Users/mbcx9cd4/Documents/maud/batch/**\n",
    "\n",
    "\n",
    "_Note, be careful with using a dropbox folder such as /Users/mbcx9cd4/Dropbox\\ \\(Research\\ Group\\)/Lightform\\ Postdoc/MAUD_\n",
    "\n",
    "\n",
    "In the terminal navigate to the hidden files within the maud.app using the command; \n",
    "\n",
    "\n",
    "**cd /Applications/Maud.app/Contents/Resources/Java**\n",
    "\n",
    "\n",
    "_Note, you can view these files by right clicking on show package contents._\n",
    "\n",
    "\n",
    "Then, run the command to start the batch mode;\n",
    "\n",
    "\n",
    "**java -mx2048M -cp Maud.jar:miscLib.jar:jgaec.jar:ij.jar com.radiographema.MaudText -f /Users/mbcx9cd4/Documents/maud/batch/MAUD_batch_065_mac.ins**\n",
    "\n",
    "\n",
    "A pop-up window will then appear, navigate to the .ins instruction file and click open. The batch mode will then run, showing the refinements in the terminal."
   ]
  },
  {
   "cell_type": "markdown",
   "metadata": {},
   "source": [
    "## Plotting refinement results"
   ]
  },
  {
   "cell_type": "code",
   "execution_count": null,
   "metadata": {},
   "outputs": [],
   "source": [
    "results_file = 'analysis/batch_results.txt'\n",
    "results = np.loadtxt(result_file, usecols = (0), skiprows=1)\n",
    "print('number of pixels =', len(pixel_number))"
   ]
  },
  {
   "cell_type": "markdown",
   "metadata": {},
   "source": [
    "## Saving ODF from MAUD analysis files for plotting in MTEX"
   ]
  },
  {
   "cell_type": "code",
   "execution_count": null,
   "metadata": {},
   "outputs": [],
   "source": []
  }
 ],
 "metadata": {
  "kernelspec": {
   "display_name": "Python 3",
   "language": "python",
   "name": "python3"
  },
  "language_info": {
   "codemirror_mode": {
    "name": "ipython",
    "version": 3
   },
   "file_extension": ".py",
   "mimetype": "text/x-python",
   "name": "python",
   "nbconvert_exporter": "python",
   "pygments_lexer": "ipython3",
   "version": "3.6.8"
  }
 },
 "nbformat": 4,
 "nbformat_minor": 2
}
